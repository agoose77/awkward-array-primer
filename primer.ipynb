{
 "cells": [
  {
   "cell_type": "markdown",
   "id": "77b9eed5-465d-4b4a-ac8e-d09aa0a246f3",
   "metadata": {
    "editable": true,
    "slideshow": {
     "slide_type": "slide"
    },
    "tags": []
   },
   "source": [
    "---\n",
    "title: Awkward Array Primer\n",
    "date: 2023-10-16\n",
    "authors:\n",
    "  - name: Angus Hollands\n",
    "    affiliations:\n",
    "      - Princeton University\n",
    "---"
   ]
  },
  {
   "cell_type": "markdown",
   "id": "782096f9-84e8-4b1c-8606-38ca1b36eca5",
   "metadata": {
    "editable": true,
    "slideshow": {
     "slide_type": "fragment"
    },
    "tags": []
   },
   "source": [
    "[Awkward Array](https://awkward-array.org/doc/main/) is \n",
    "> a library for nested, variable-sized data, including arbitrary-length lists, records, mixed types, and missing data, using NumPy-like idioms."
   ]
  },
  {
   "cell_type": "markdown",
   "id": "5c736c60-c491-458e-8c83-8a3d5dc1a2b5",
   "metadata": {
    "editable": true,
    "slideshow": {
     "slide_type": "subslide"
    },
    "tags": []
   },
   "source": [
    "Creating an Awkward Array is as simple as"
   ]
  },
  {
   "cell_type": "code",
   "execution_count": 1,
   "id": "eb9ce22e-67cc-4b12-bc4d-35295bdebade",
   "metadata": {
    "editable": true,
    "slideshow": {
     "slide_type": ""
    },
    "tags": []
   },
   "outputs": [
    {
     "data": {
      "text/html": [
       "<pre>[[&#x27;this&#x27;, &#x27;is&#x27;],\n",
       " [&#x27;a&#x27;, &#x27;ragged&#x27;, &#x27;list&#x27;, &#x27;of&#x27;, &#x27;strings&#x27;]]\n",
       "------------------------------------------\n",
       "type: 2 * var * string</pre>"
      ],
      "text/plain": [
       "<Array [['this', 'is'], ['a', ..., 'strings']] type='2 * var * string'>"
      ]
     },
     "execution_count": 1,
     "metadata": {},
     "output_type": "execute_result"
    }
   ],
   "source": [
    "import awkward as ak\n",
    "\n",
    "array = ak.Array([\n",
    "    [\"this\", \"is\"],\n",
    "    [\"a\", \"ragged\", \"list\", \"of\", \"strings\"]\n",
    "])\n",
    "array"
   ]
  },
  {
   "cell_type": "markdown",
   "id": "a6ccdfa0-c4b9-451d-aad3-abe8182dd1f7",
   "metadata": {
    "editable": true,
    "slideshow": {
     "slide_type": "subslide"
    },
    "tags": []
   },
   "source": [
    "Of course, Python data structures can be used to store ragged data, e.g."
   ]
  },
  {
   "cell_type": "code",
   "execution_count": 2,
   "id": "69e88ae5-4614-40b4-9b22-385835d3751b",
   "metadata": {
    "editable": true,
    "slideshow": {
     "slide_type": ""
    },
    "tags": []
   },
   "outputs": [
    {
     "data": {
      "text/plain": [
       "[['this', 'is'], ['a', 'ragged', 'list', 'of', 'strings']]"
      ]
     },
     "execution_count": 2,
     "metadata": {},
     "output_type": "execute_result"
    }
   ],
   "source": [
    "[\n",
    "    [\"this\", \"is\"],\n",
    "    [\"a\", \"ragged\", \"list\", \"of\", \"strings\"]\n",
    "]"
   ]
  },
  {
   "cell_type": "markdown",
   "id": "04cc3bdd-c37d-4123-91b3-e5e5e762a18a",
   "metadata": {
    "editable": true,
    "slideshow": {
     "slide_type": "subslide"
    },
    "tags": []
   },
   "source": [
    "But the real power of using Awkward Array is the _performance_ and _expressiveness_ provided by our compiled kernels, and high-level API:"
   ]
  },
  {
   "cell_type": "code",
   "execution_count": 72,
   "id": "b2ce2086-127d-44f2-aed4-11a3ebb65694",
   "metadata": {
    "editable": true,
    "slideshow": {
     "slide_type": "fragment"
    },
    "tags": []
   },
   "outputs": [
    {
     "data": {
      "text/html": [
       "<pre>[[1, 2, 4],\n",
       " [],\n",
       " [None, 8],\n",
       " [16]]\n",
       "----------------------\n",
       "type: 4 * var * ?int64</pre>"
      ],
      "text/plain": [
       "<Array [[1, 2, 4], [], [None, 8], [16]] type='4 * var * ?int64'>"
      ]
     },
     "execution_count": 72,
     "metadata": {},
     "output_type": "execute_result"
    }
   ],
   "source": [
    "array"
   ]
  },
  {
   "cell_type": "code",
   "execution_count": 73,
   "id": "8451976c-5e5e-4124-ac11-9b23429d4ee4",
   "metadata": {
    "editable": true,
    "slideshow": {
     "slide_type": ""
    },
    "tags": []
   },
   "outputs": [
    {
     "data": {
      "text/html": [
       "<pre>[3,\n",
       " 0,\n",
       " 2,\n",
       " 1]\n",
       "---------------\n",
       "type: 4 * int64</pre>"
      ],
      "text/plain": [
       "<Array [3, 0, 2, 1] type='4 * int64'>"
      ]
     },
     "execution_count": 73,
     "metadata": {},
     "output_type": "execute_result"
    }
   ],
   "source": [
    "ak.num(array, axis=1)"
   ]
  },
  {
   "cell_type": "code",
   "execution_count": 74,
   "id": "0dd3d57c-7ac5-4e88-ae22-bbc5cc33762e",
   "metadata": {
    "editable": true,
    "scrolled": true,
    "slideshow": {
     "slide_type": "fragment"
    },
    "tags": []
   },
   "outputs": [
    {
     "data": {
      "text/plain": [
       "ak.__dir__\n",
       "ak.all\n",
       "ak.almost_equal\n",
       "ak.any\n",
       "ak.argcartesian\n",
       "ak.argcombinations\n",
       "ak.argmax\n",
       "ak.argmin\n",
       "ak.argsort\n",
       "ak.backend\n",
       "ak.broadcast_arrays\n",
       "ak.broadcast_fields\n",
       "ak.cartesian\n",
       "ak.categories\n",
       "ak.combinations\n",
       "ak.concatenate\n",
       "ak.copy\n",
       "ak.corr\n",
       "ak.count\n",
       "ak.count_nonzero\n",
       "ak.covar\n",
       "ak.drop_none\n",
       "ak.enforce_type\n",
       "ak.fields\n",
       "ak.fill_none\n",
       "ak.firsts\n",
       "ak.flatten\n",
       "ak.from_arrow\n",
       "ak.from_arrow_schema\n",
       "ak.from_avro_file\n",
       "ak.from_buffers\n",
       "ak.from_categorical\n",
       "ak.from_cupy\n",
       "ak.from_dlpack\n",
       "ak.from_feather\n",
       "ak.from_iter\n",
       "ak.from_jax\n",
       "ak.from_json\n",
       "ak.from_numpy\n",
       "ak.from_parquet\n",
       "ak.from_rdataframe\n",
       "ak.from_regular\n",
       "ak.full_like\n",
       "ak.is_categorical\n",
       "ak.is_none\n",
       "ak.is_tuple\n",
       "ak.is_valid\n",
       "ak.isclose\n",
       "ak.linear_fit\n",
       "ak.local_index\n",
       "ak.mask\n",
       "ak.max\n",
       "ak.mean\n",
       "ak.merge_option_of_records\n",
       "ak.merge_union_of_records\n",
       "ak.metadata_from_parquet\n",
       "ak.min\n",
       "ak.mixin_class\n",
       "ak.mixin_class_method\n",
       "ak.moment\n",
       "ak.nan_to_none\n",
       "ak.nan_to_num\n",
       "ak.num\n",
       "ak.ones_like\n",
       "ak.pad_none\n",
       "ak.parameters\n",
       "ak.prod\n",
       "ak.ptp\n",
       "ak.ravel\n",
       "ak.run_lengths\n",
       "ak.singletons\n",
       "ak.softmax\n",
       "ak.sort\n",
       "ak.std\n",
       "ak.strings_astype\n",
       "ak.sum\n",
       "ak.to_arrow\n",
       "ak.to_arrow_table\n",
       "ak.to_backend\n",
       "ak.to_buffers\n",
       "ak.to_categorical\n",
       "ak.to_cupy\n",
       "ak.to_dataframe\n",
       "ak.to_feather\n",
       "ak.to_jax\n",
       "ak.to_json\n",
       "ak.to_layout\n",
       "ak.to_list\n",
       "ak.to_numpy\n",
       "ak.to_packed\n",
       "ak.to_parquet\n",
       "ak.to_rdataframe\n",
       "ak.to_regular\n",
       "ak.transform\n",
       "ak.type\n",
       "ak.unflatten\n",
       "ak.unzip\n",
       "ak.validity_error\n",
       "ak.values_astype\n",
       "ak.var\n",
       "ak.where\n",
       "ak.with_field\n",
       "ak.with_name\n",
       "ak.with_parameter\n",
       "ak.without_field\n",
       "ak.without_parameters\n",
       "ak.zeros_like\n",
       "ak.zip"
      ]
     },
     "metadata": {},
     "output_type": "display_data"
    }
   ],
   "source": [
    "%psearch -e builtin ak.*? function"
   ]
  },
  {
   "cell_type": "markdown",
   "id": "cf86ab0c-d5d0-43e7-aac5-871b2447d744",
   "metadata": {
    "editable": true,
    "slideshow": {
     "slide_type": "slide"
    },
    "tags": []
   },
   "source": [
    "## Supported Types"
   ]
  },
  {
   "cell_type": "markdown",
   "id": "73e14c35-9672-4afd-8fd3-513470e41d61",
   "metadata": {
    "editable": true,
    "slideshow": {
     "slide_type": "subslide"
    },
    "tags": []
   },
   "source": [
    "Awkward supports many different data types:"
   ]
  },
  {
   "cell_type": "markdown",
   "id": "24067251-e6d4-456d-abf4-71c587a95866",
   "metadata": {
    "editable": true,
    "slideshow": {
     "slide_type": "fragment"
    },
    "tags": []
   },
   "source": [
    "__Numerics__"
   ]
  },
  {
   "cell_type": "code",
   "execution_count": 5,
   "id": "96fcef8e-e1e6-4385-97b6-7bf2b8a6495a",
   "metadata": {
    "editable": true,
    "slideshow": {
     "slide_type": ""
    },
    "tags": []
   },
   "outputs": [
    {
     "data": {
      "text/html": [
       "<pre>[1,\n",
       " 2,\n",
       " 3]\n",
       "---------------\n",
       "type: 3 * int64</pre>"
      ],
      "text/plain": [
       "<Array [1, 2, 3] type='3 * int64'>"
      ]
     },
     "execution_count": 5,
     "metadata": {},
     "output_type": "execute_result"
    }
   ],
   "source": [
    "ak.Array([1, 2, 3])"
   ]
  },
  {
   "cell_type": "markdown",
   "id": "15c55370-0fd4-49e8-a65e-ed04855a0318",
   "metadata": {
    "editable": true,
    "slideshow": {
     "slide_type": "fragment"
    },
    "tags": []
   },
   "source": [
    "__Optionals__"
   ]
  },
  {
   "cell_type": "code",
   "execution_count": 6,
   "id": "81beed90-91ff-42b3-8e10-b34773202b12",
   "metadata": {
    "editable": true,
    "slideshow": {
     "slide_type": ""
    },
    "tags": []
   },
   "outputs": [
    {
     "data": {
      "text/html": [
       "<pre>[1,\n",
       " None,\n",
       " 2]\n",
       "----------------\n",
       "type: 3 * ?int64</pre>"
      ],
      "text/plain": [
       "<Array [1, None, 2] type='3 * ?int64'>"
      ]
     },
     "execution_count": 6,
     "metadata": {},
     "output_type": "execute_result"
    }
   ],
   "source": [
    "ak.Array([1, None, 2])"
   ]
  },
  {
   "cell_type": "markdown",
   "id": "213fdc5f-0730-4180-a05e-5877a351fb13",
   "metadata": {
    "editable": true,
    "slideshow": {
     "slide_type": "fragment"
    },
    "tags": []
   },
   "source": [
    "__Tagged Unions__"
   ]
  },
  {
   "cell_type": "code",
   "execution_count": 7,
   "id": "5fc6b4d7-411e-4c75-a41f-8818b77ced95",
   "metadata": {
    "editable": true,
    "slideshow": {
     "slide_type": ""
    },
    "tags": []
   },
   "outputs": [
    {
     "data": {
      "text/html": [
       "<pre>[1,\n",
       " &#x27;hello world&#x27;,\n",
       " 2]\n",
       "----------------\n",
       "type: 3 * union[\n",
       "    int64,\n",
       "    string\n",
       "]</pre>"
      ],
      "text/plain": [
       "<Array [1, 'hello world', 2] type='3 * union[int64, string]'>"
      ]
     },
     "execution_count": 7,
     "metadata": {},
     "output_type": "execute_result"
    }
   ],
   "source": [
    "ak.Array([1, \"hello world\", 2])"
   ]
  },
  {
   "cell_type": "markdown",
   "id": "c5cceea0-e491-4c07-a2a2-b0c90db0d74a",
   "metadata": {
    "editable": true,
    "slideshow": {
     "slide_type": "fragment"
    },
    "tags": []
   },
   "source": [
    "__Records__ (composed structures)"
   ]
  },
  {
   "cell_type": "code",
   "execution_count": 8,
   "id": "7bf99734-6b24-43c6-8f3c-3bfc42df0c55",
   "metadata": {
    "editable": true,
    "slideshow": {
     "slide_type": ""
    },
    "tags": []
   },
   "outputs": [
    {
     "data": {
      "text/html": [
       "<pre>[{x: 1, y: 2},\n",
       " {x: 3, y: 4}]\n",
       "--------------\n",
       "type: 2 * {\n",
       "    x: int64,\n",
       "    y: int64\n",
       "}</pre>"
      ],
      "text/plain": [
       "<Array [{x: 1, y: 2}, {x: 3, y: 4}] type='2 * {x: int64, y: int64}'>"
      ]
     },
     "execution_count": 8,
     "metadata": {},
     "output_type": "execute_result"
    }
   ],
   "source": [
    "ak.Array([\n",
    "    {'x': 1, 'y': 2},\n",
    "    {'x': 3, 'y': 4}\n",
    "])"
   ]
  },
  {
   "cell_type": "markdown",
   "id": "1c6dce3f-512f-46f7-8b5e-f94d3d9829bf",
   "metadata": {
    "editable": true,
    "slideshow": {
     "slide_type": "fragment"
    },
    "tags": []
   },
   "source": [
    "__(Byte) strings__"
   ]
  },
  {
   "cell_type": "code",
   "execution_count": 9,
   "id": "cdeb76b2-c5a6-4b9a-b2a9-5b55fca05ef5",
   "metadata": {
    "editable": true,
    "slideshow": {
     "slide_type": ""
    },
    "tags": []
   },
   "outputs": [
    {
     "data": {
      "text/html": [
       "<pre>[&#x27;hello&#x27;,\n",
       " &#x27;world!&#x27;]\n",
       "----------------\n",
       "type: 2 * string</pre>"
      ],
      "text/plain": [
       "<Array ['hello', 'world!'] type='2 * string'>"
      ]
     },
     "execution_count": 9,
     "metadata": {},
     "output_type": "execute_result"
    }
   ],
   "source": [
    "ak.Array([\"hello\", \"world!\"])"
   ]
  },
  {
   "cell_type": "markdown",
   "id": "30855146-a0b9-4887-9273-3659e1efa69f",
   "metadata": {
    "editable": true,
    "slideshow": {
     "slide_type": "subslide"
    },
    "tags": []
   },
   "source": [
    "Arrays have types"
   ]
  },
  {
   "cell_type": "code",
   "execution_count": 15,
   "id": "f1658938-5278-4bbc-be78-32608e3936d1",
   "metadata": {
    "editable": true,
    "slideshow": {
     "slide_type": "fragment"
    },
    "tags": []
   },
   "outputs": [
    {
     "name": "stdout",
     "output_type": "stream",
     "text": [
      "[1,\n",
      " 2,\n",
      " 3,\n",
      " 4,\n",
      " 5,\n",
      " 6,\n",
      " 7,\n",
      " 8,\n",
      " 9]\n"
     ]
    }
   ],
   "source": [
    "array.show()"
   ]
  },
  {
   "cell_type": "code",
   "execution_count": 16,
   "id": "d619a1f9-2950-41ea-b3a8-e6fa95f2d6c4",
   "metadata": {
    "editable": true,
    "slideshow": {
     "slide_type": "fragment"
    },
    "tags": []
   },
   "outputs": [
    {
     "name": "stdout",
     "output_type": "stream",
     "text": [
      "9 * int64\n"
     ]
    }
   ],
   "source": [
    "array.type.show()"
   ]
  },
  {
   "cell_type": "code",
   "execution_count": 17,
   "id": "15da1095-f8b8-49a4-a533-7b387fd87ebe",
   "metadata": {
    "editable": true,
    "slideshow": {
     "slide_type": "fragment"
    },
    "tags": []
   },
   "outputs": [
    {
     "data": {
      "text/plain": [
       "ArrayType(NumpyType('int64'), 9, None)"
      ]
     },
     "execution_count": 17,
     "metadata": {},
     "output_type": "execute_result"
    }
   ],
   "source": [
    "array.type"
   ]
  },
  {
   "cell_type": "markdown",
   "id": "b21b4a22-fe84-4b73-bc11-a2046b127344",
   "metadata": {
    "editable": true,
    "slideshow": {
     "slide_type": "slide"
    },
    "tags": []
   },
   "source": [
    "## Reduction"
   ]
  },
  {
   "cell_type": "markdown",
   "id": "9b8df1d3-e32a-4ac6-ba8d-192586c964a1",
   "metadata": {
    "editable": true,
    "slideshow": {
     "slide_type": "subslide"
    },
    "tags": []
   },
   "source": [
    "Arrays can be reduced"
   ]
  },
  {
   "cell_type": "code",
   "execution_count": 18,
   "id": "bba33d2e-8c8e-4986-8cf4-868ac88f7463",
   "metadata": {
    "editable": true,
    "slideshow": {
     "slide_type": "fragment"
    },
    "tags": []
   },
   "outputs": [],
   "source": [
    "array = ak.Array([\n",
    "    [1, 2, 4],\n",
    "    [],\n",
    "    [8],\n",
    "    [16]\n",
    "])"
   ]
  },
  {
   "cell_type": "code",
   "execution_count": 19,
   "id": "73740345-3de9-4769-b2ce-824ca0c2d25f",
   "metadata": {
    "editable": true,
    "slideshow": {
     "slide_type": "fragment"
    },
    "tags": []
   },
   "outputs": [
    {
     "data": {
      "text/html": [
       "<pre>[7,\n",
       " 0,\n",
       " 8,\n",
       " 16]\n",
       "---------------\n",
       "type: 4 * int64</pre>"
      ],
      "text/plain": [
       "<Array [7, 0, 8, 16] type='4 * int64'>"
      ]
     },
     "execution_count": 19,
     "metadata": {},
     "output_type": "execute_result"
    }
   ],
   "source": [
    "ak.sum(array, axis=1)"
   ]
  },
  {
   "cell_type": "markdown",
   "id": "5b1b3768-78f5-49ef-922c-1fb4c65df733",
   "metadata": {
    "editable": true,
    "slideshow": {
     "slide_type": "subslide"
    },
    "tags": []
   },
   "source": [
    "Awkward Array supports _ragged_ reduction:"
   ]
  },
  {
   "cell_type": "markdown",
   "id": "73ffae3c-fd20-4a0d-9c99-5492dfe28dfd",
   "metadata": {
    "editable": true,
    "slideshow": {
     "slide_type": ""
    },
    "tags": []
   },
   "source": [
    ":::{figure} img/example-reduction-sum-only.svg\n",
    ":align: left\n",
    "\n",
    "Ragged reduction at `axis=0`\n",
    ":::\n"
   ]
  },
  {
   "cell_type": "code",
   "execution_count": 60,
   "id": "a1942deb-6e79-4269-8bda-cccd7797eb66",
   "metadata": {
    "editable": true,
    "slideshow": {
     "slide_type": "fragment"
    },
    "tags": []
   },
   "outputs": [],
   "source": [
    "array = ak.Array([\n",
    "    [1,    2,   4],\n",
    "    [            ],\n",
    "    [None, 8,    ],\n",
    "    [16,         ]\n",
    "])"
   ]
  },
  {
   "cell_type": "code",
   "execution_count": 75,
   "id": "bca68018-d91c-49c8-bf62-ee2e565af395",
   "metadata": {
    "editable": true,
    "slideshow": {
     "slide_type": "fragment"
    },
    "tags": []
   },
   "outputs": [
    {
     "data": {
      "text/html": [
       "<pre>[17,\n",
       " 10,\n",
       " 4]\n",
       "---------------\n",
       "type: 3 * int64</pre>"
      ],
      "text/plain": [
       "<Array [17, 10, 4] type='3 * int64'>"
      ]
     },
     "execution_count": 75,
     "metadata": {},
     "output_type": "execute_result"
    }
   ],
   "source": [
    "ak.sum(array, axis=0)"
   ]
  },
  {
   "cell_type": "markdown",
   "id": "6c5001ff-b7b7-4f7d-b8ee-51e454799a41",
   "metadata": {
    "editable": true,
    "slideshow": {
     "slide_type": "slide"
    },
    "tags": []
   },
   "source": [
    "## Slicing"
   ]
  },
  {
   "cell_type": "markdown",
   "id": "a55b8ae3-19fd-4b8e-bda9-dad31431a8b3",
   "metadata": {
    "editable": true,
    "slideshow": {
     "slide_type": "subslide"
    },
    "tags": []
   },
   "source": [
    "Arrays can be sliced"
   ]
  },
  {
   "cell_type": "code",
   "execution_count": 62,
   "id": "6bd3e2b1-27d7-431c-b87c-1129f913059f",
   "metadata": {
    "editable": true,
    "slideshow": {
     "slide_type": "fragment"
    },
    "tags": []
   },
   "outputs": [
    {
     "data": {
      "text/html": [
       "<pre>[[1, 2, 4],\n",
       " [],\n",
       " [None, 8],\n",
       " [16]]\n",
       "----------------------\n",
       "type: 4 * var * ?int64</pre>"
      ],
      "text/plain": [
       "<Array [[1, 2, 4], [], [None, 8], [16]] type='4 * var * ?int64'>"
      ]
     },
     "execution_count": 62,
     "metadata": {},
     "output_type": "execute_result"
    }
   ],
   "source": [
    "array"
   ]
  },
  {
   "cell_type": "code",
   "execution_count": 63,
   "id": "a49a37d3-a9ac-46f9-b963-97f381a36612",
   "metadata": {
    "editable": true,
    "slideshow": {
     "slide_type": "fragment"
    },
    "tags": []
   },
   "outputs": [
    {
     "data": {
      "text/html": [
       "<pre>[[1, 2, 4]]\n",
       "----------------------\n",
       "type: 1 * var * ?int64</pre>"
      ],
      "text/plain": [
       "<Array [[1, 2, 4]] type='1 * var * ?int64'>"
      ]
     },
     "execution_count": 63,
     "metadata": {},
     "output_type": "execute_result"
    }
   ],
   "source": [
    "array[:1]"
   ]
  },
  {
   "cell_type": "code",
   "execution_count": 64,
   "id": "9ed68ca9-357c-4de7-a63a-0e8cc45f51dc",
   "metadata": {
    "editable": true,
    "slideshow": {
     "slide_type": "fragment"
    },
    "tags": []
   },
   "outputs": [
    {
     "data": {
      "text/html": [
       "<pre>[[1],\n",
       " [],\n",
       " [None],\n",
       " [16]]\n",
       "----------------------\n",
       "type: 4 * var * ?int64</pre>"
      ],
      "text/plain": [
       "<Array [[1], [], [None], [16]] type='4 * var * ?int64'>"
      ]
     },
     "execution_count": 64,
     "metadata": {},
     "output_type": "execute_result"
    }
   ],
   "source": [
    "array[:, :1]"
   ]
  },
  {
   "cell_type": "markdown",
   "id": "a19166b5-f900-4ef8-95da-3a1654d9d9f3",
   "metadata": {
    "editable": true,
    "slideshow": {
     "slide_type": "subslide"
    },
    "tags": []
   },
   "source": [
    "Awkward provides helpers for slicing single items from maybe-empty sublists"
   ]
  },
  {
   "cell_type": "code",
   "execution_count": 65,
   "id": "15c10567-3328-4472-a360-54767de3d334",
   "metadata": {
    "editable": true,
    "slideshow": {
     "slide_type": "fragment"
    },
    "tags": []
   },
   "outputs": [
    {
     "data": {
      "text/html": [
       "<pre>[[1, 2, 4],\n",
       " [],\n",
       " [None, 8],\n",
       " [16]]\n",
       "----------------------\n",
       "type: 4 * var * ?int64</pre>"
      ],
      "text/plain": [
       "<Array [[1, 2, 4], [], [None, 8], [16]] type='4 * var * ?int64'>"
      ]
     },
     "execution_count": 65,
     "metadata": {},
     "output_type": "execute_result"
    }
   ],
   "source": [
    "array"
   ]
  },
  {
   "cell_type": "code",
   "execution_count": 66,
   "id": "37828a0b-cdcd-4f32-a107-e04878b790df",
   "metadata": {
    "editable": true,
    "slideshow": {
     "slide_type": "fragment"
    },
    "tags": [
     "raises-exception"
    ]
   },
   "outputs": [
    {
     "ename": "IndexError",
     "evalue": "cannot slice ListArray (of length 4) with array(0): index out of range while attempting to get index 0 (in compiled code: https://github.com/scikit-hep/awkward/blob/awkward-cpp-24/awkward-cpp/src/cpu-kernels/awkward_NumpyArray_getitem_next_at.cpp#L21)\n\nThis error occurred while attempting to slice\n\n    <Array [[1, 2, 4], [], [None, 8], [16]] type='4 * var * ?int64'>\n\nwith\n\n    (:, 0)",
     "output_type": "error",
     "traceback": [
      "\u001b[0;31m---------------------------------------------------------------------------\u001b[0m",
      "\u001b[0;31mIndexError\u001b[0m                                Traceback (most recent call last)",
      "File \u001b[0;32m~/Git/awkward-array-primer/.env/lib/python3.10/site-packages/awkward/highlevel.py:1014\u001b[0m, in \u001b[0;36mArray.__getitem__\u001b[0;34m(self, where)\u001b[0m\n\u001b[1;32m   1012\u001b[0m \u001b[38;5;28;01mwith\u001b[39;00m ak\u001b[38;5;241m.\u001b[39m_errors\u001b[38;5;241m.\u001b[39mSlicingErrorContext(\u001b[38;5;28mself\u001b[39m, where):\n\u001b[1;32m   1013\u001b[0m     \u001b[38;5;28;01mreturn\u001b[39;00m wrap_layout(\n\u001b[0;32m-> 1014\u001b[0m         prepare_layout(\u001b[38;5;28;43mself\u001b[39;49m\u001b[38;5;241;43m.\u001b[39;49m\u001b[43m_layout\u001b[49m\u001b[43m[\u001b[49m\u001b[43mwhere\u001b[49m\u001b[43m]\u001b[49m), \u001b[38;5;28mself\u001b[39m\u001b[38;5;241m.\u001b[39m_behavior, allow_other\u001b[38;5;241m=\u001b[39m\u001b[38;5;28;01mTrue\u001b[39;00m\n\u001b[1;32m   1015\u001b[0m     )\n",
      "File \u001b[0;32m~/Git/awkward-array-primer/.env/lib/python3.10/site-packages/awkward/contents/content.py:519\u001b[0m, in \u001b[0;36mContent.__getitem__\u001b[0;34m(self, where)\u001b[0m\n\u001b[1;32m    518\u001b[0m \u001b[38;5;28;01mdef\u001b[39;00m \u001b[38;5;21m__getitem__\u001b[39m(\u001b[38;5;28mself\u001b[39m, where):\n\u001b[0;32m--> 519\u001b[0m     \u001b[38;5;28;01mreturn\u001b[39;00m \u001b[38;5;28;43mself\u001b[39;49m\u001b[38;5;241;43m.\u001b[39;49m\u001b[43m_getitem\u001b[49m\u001b[43m(\u001b[49m\u001b[43mwhere\u001b[49m\u001b[43m)\u001b[49m\n",
      "File \u001b[0;32m~/Git/awkward-array-primer/.env/lib/python3.10/site-packages/awkward/contents/content.py:564\u001b[0m, in \u001b[0;36mContent._getitem\u001b[0;34m(self, where)\u001b[0m\n\u001b[1;32m    557\u001b[0m \u001b[38;5;28mnext\u001b[39m \u001b[38;5;241m=\u001b[39m ak\u001b[38;5;241m.\u001b[39mcontents\u001b[38;5;241m.\u001b[39mRegularArray(\n\u001b[1;32m    558\u001b[0m     this,\n\u001b[1;32m    559\u001b[0m     this\u001b[38;5;241m.\u001b[39mlength,\n\u001b[1;32m    560\u001b[0m     \u001b[38;5;241m1\u001b[39m,\n\u001b[1;32m    561\u001b[0m     parameters\u001b[38;5;241m=\u001b[39m\u001b[38;5;28;01mNone\u001b[39;00m,\n\u001b[1;32m    562\u001b[0m )\n\u001b[0;32m--> 564\u001b[0m out \u001b[38;5;241m=\u001b[39m \u001b[38;5;28;43mnext\u001b[39;49m\u001b[38;5;241;43m.\u001b[39;49m\u001b[43m_getitem_next\u001b[49m\u001b[43m(\u001b[49m\u001b[43mnextwhere\u001b[49m\u001b[43m[\u001b[49m\u001b[38;5;241;43m0\u001b[39;49m\u001b[43m]\u001b[49m\u001b[43m,\u001b[49m\u001b[43m \u001b[49m\u001b[43mnextwhere\u001b[49m\u001b[43m[\u001b[49m\u001b[38;5;241;43m1\u001b[39;49m\u001b[43m:\u001b[49m\u001b[43m]\u001b[49m\u001b[43m,\u001b[49m\u001b[43m \u001b[49m\u001b[38;5;28;43;01mNone\u001b[39;49;00m\u001b[43m)\u001b[49m\n\u001b[1;32m    566\u001b[0m \u001b[38;5;28;01mif\u001b[39;00m out\u001b[38;5;241m.\u001b[39mlength \u001b[38;5;129;01mis\u001b[39;00m \u001b[38;5;129;01mnot\u001b[39;00m unknown_length \u001b[38;5;129;01mand\u001b[39;00m out\u001b[38;5;241m.\u001b[39mlength \u001b[38;5;241m==\u001b[39m \u001b[38;5;241m0\u001b[39m:\n",
      "File \u001b[0;32m~/Git/awkward-array-primer/.env/lib/python3.10/site-packages/awkward/contents/regulararray.py:518\u001b[0m, in \u001b[0;36mRegularArray._getitem_next\u001b[0;34m(self, head, tail, advanced)\u001b[0m\n\u001b[1;32m    514\u001b[0m \u001b[38;5;28;01mif\u001b[39;00m advanced \u001b[38;5;129;01mis\u001b[39;00m \u001b[38;5;28;01mNone\u001b[39;00m \u001b[38;5;129;01mor\u001b[39;00m (\n\u001b[1;32m    515\u001b[0m     advanced\u001b[38;5;241m.\u001b[39mlength \u001b[38;5;129;01mis\u001b[39;00m \u001b[38;5;129;01mnot\u001b[39;00m unknown_length \u001b[38;5;129;01mand\u001b[39;00m advanced\u001b[38;5;241m.\u001b[39mlength \u001b[38;5;241m==\u001b[39m \u001b[38;5;241m0\u001b[39m\n\u001b[1;32m    516\u001b[0m ):\n\u001b[1;32m    517\u001b[0m     \u001b[38;5;28;01mreturn\u001b[39;00m RegularArray(\n\u001b[0;32m--> 518\u001b[0m         \u001b[43mnextcontent\u001b[49m\u001b[38;5;241;43m.\u001b[39;49m\u001b[43m_getitem_next\u001b[49m\u001b[43m(\u001b[49m\u001b[43mnexthead\u001b[49m\u001b[43m,\u001b[49m\u001b[43m \u001b[49m\u001b[43mnexttail\u001b[49m\u001b[43m,\u001b[49m\u001b[43m \u001b[49m\u001b[43madvanced\u001b[49m\u001b[43m)\u001b[49m,\n\u001b[1;32m    519\u001b[0m         nextsize,\n\u001b[1;32m    520\u001b[0m         \u001b[38;5;28mself\u001b[39m\u001b[38;5;241m.\u001b[39m_length,\n\u001b[1;32m    521\u001b[0m         parameters\u001b[38;5;241m=\u001b[39m\u001b[38;5;28mself\u001b[39m\u001b[38;5;241m.\u001b[39m_parameters,\n\u001b[1;32m    522\u001b[0m     )\n\u001b[1;32m    523\u001b[0m \u001b[38;5;28;01melse\u001b[39;00m:\n",
      "File \u001b[0;32m~/Git/awkward-array-primer/.env/lib/python3.10/site-packages/awkward/contents/listarray.py:719\u001b[0m, in \u001b[0;36mListArray._getitem_next\u001b[0;34m(self, head, tail, advanced)\u001b[0m\n\u001b[1;32m    714\u001b[0m \u001b[38;5;28;01massert\u001b[39;00m (\n\u001b[1;32m    715\u001b[0m     nextcarry\u001b[38;5;241m.\u001b[39mnplike \u001b[38;5;129;01mis\u001b[39;00m \u001b[38;5;28mself\u001b[39m\u001b[38;5;241m.\u001b[39m_backend\u001b[38;5;241m.\u001b[39mindex_nplike\n\u001b[1;32m    716\u001b[0m     \u001b[38;5;129;01mand\u001b[39;00m \u001b[38;5;28mself\u001b[39m\u001b[38;5;241m.\u001b[39m_starts\u001b[38;5;241m.\u001b[39mnplike \u001b[38;5;129;01mis\u001b[39;00m \u001b[38;5;28mself\u001b[39m\u001b[38;5;241m.\u001b[39m_backend\u001b[38;5;241m.\u001b[39mindex_nplike\n\u001b[1;32m    717\u001b[0m     \u001b[38;5;129;01mand\u001b[39;00m \u001b[38;5;28mself\u001b[39m\u001b[38;5;241m.\u001b[39m_stops\u001b[38;5;241m.\u001b[39mnplike \u001b[38;5;129;01mis\u001b[39;00m \u001b[38;5;28mself\u001b[39m\u001b[38;5;241m.\u001b[39m_backend\u001b[38;5;241m.\u001b[39mindex_nplike\n\u001b[1;32m    718\u001b[0m )\n\u001b[0;32m--> 719\u001b[0m \u001b[38;5;28;43mself\u001b[39;49m\u001b[38;5;241;43m.\u001b[39;49m\u001b[43m_maybe_index_error\u001b[49m\u001b[43m(\u001b[49m\n\u001b[1;32m    720\u001b[0m \u001b[43m    \u001b[49m\u001b[38;5;28;43mself\u001b[39;49m\u001b[38;5;241;43m.\u001b[39;49m\u001b[43m_backend\u001b[49m\u001b[43m[\u001b[49m\n\u001b[1;32m    721\u001b[0m \u001b[43m        \u001b[49m\u001b[38;5;124;43m\"\u001b[39;49m\u001b[38;5;124;43mawkward_ListArray_getitem_next_at\u001b[39;49m\u001b[38;5;124;43m\"\u001b[39;49m\u001b[43m,\u001b[49m\n\u001b[1;32m    722\u001b[0m \u001b[43m        \u001b[49m\u001b[43mnextcarry\u001b[49m\u001b[38;5;241;43m.\u001b[39;49m\u001b[43mdtype\u001b[49m\u001b[38;5;241;43m.\u001b[39;49m\u001b[43mtype\u001b[49m\u001b[43m,\u001b[49m\n\u001b[1;32m    723\u001b[0m \u001b[43m        \u001b[49m\u001b[38;5;28;43mself\u001b[39;49m\u001b[38;5;241;43m.\u001b[39;49m\u001b[43m_starts\u001b[49m\u001b[38;5;241;43m.\u001b[39;49m\u001b[43mdtype\u001b[49m\u001b[38;5;241;43m.\u001b[39;49m\u001b[43mtype\u001b[49m\u001b[43m,\u001b[49m\n\u001b[1;32m    724\u001b[0m \u001b[43m        \u001b[49m\u001b[38;5;28;43mself\u001b[39;49m\u001b[38;5;241;43m.\u001b[39;49m\u001b[43m_stops\u001b[49m\u001b[38;5;241;43m.\u001b[39;49m\u001b[43mdtype\u001b[49m\u001b[38;5;241;43m.\u001b[39;49m\u001b[43mtype\u001b[49m\u001b[43m,\u001b[49m\n\u001b[1;32m    725\u001b[0m \u001b[43m    \u001b[49m\u001b[43m]\u001b[49m\u001b[43m(\u001b[49m\n\u001b[1;32m    726\u001b[0m \u001b[43m        \u001b[49m\u001b[43mnextcarry\u001b[49m\u001b[38;5;241;43m.\u001b[39;49m\u001b[43mdata\u001b[49m\u001b[43m,\u001b[49m\n\u001b[1;32m    727\u001b[0m \u001b[43m        \u001b[49m\u001b[38;5;28;43mself\u001b[39;49m\u001b[38;5;241;43m.\u001b[39;49m\u001b[43m_starts\u001b[49m\u001b[38;5;241;43m.\u001b[39;49m\u001b[43mdata\u001b[49m\u001b[43m,\u001b[49m\n\u001b[1;32m    728\u001b[0m \u001b[43m        \u001b[49m\u001b[38;5;28;43mself\u001b[39;49m\u001b[38;5;241;43m.\u001b[39;49m\u001b[43m_stops\u001b[49m\u001b[38;5;241;43m.\u001b[39;49m\u001b[43mdata\u001b[49m\u001b[43m,\u001b[49m\n\u001b[1;32m    729\u001b[0m \u001b[43m        \u001b[49m\u001b[43mlenstarts\u001b[49m\u001b[43m,\u001b[49m\n\u001b[1;32m    730\u001b[0m \u001b[43m        \u001b[49m\u001b[43mhead\u001b[49m\u001b[43m,\u001b[49m\n\u001b[1;32m    731\u001b[0m \u001b[43m    \u001b[49m\u001b[43m)\u001b[49m\u001b[43m,\u001b[49m\n\u001b[1;32m    732\u001b[0m \u001b[43m    \u001b[49m\u001b[43mslicer\u001b[49m\u001b[38;5;241;43m=\u001b[39;49m\u001b[43mhead\u001b[49m\u001b[43m,\u001b[49m\n\u001b[1;32m    733\u001b[0m \u001b[43m\u001b[49m\u001b[43m)\u001b[49m\n\u001b[1;32m    734\u001b[0m nextcontent \u001b[38;5;241m=\u001b[39m \u001b[38;5;28mself\u001b[39m\u001b[38;5;241m.\u001b[39m_content\u001b[38;5;241m.\u001b[39m_carry(nextcarry, \u001b[38;5;28;01mTrue\u001b[39;00m)\n",
      "File \u001b[0;32m~/Git/awkward-array-primer/.env/lib/python3.10/site-packages/awkward/contents/content.py:280\u001b[0m, in \u001b[0;36mContent._maybe_index_error\u001b[0;34m(self, error, slicer)\u001b[0m\n\u001b[1;32m    279\u001b[0m message \u001b[38;5;241m=\u001b[39m \u001b[38;5;28mself\u001b[39m\u001b[38;5;241m.\u001b[39m_backend\u001b[38;5;241m.\u001b[39mformat_kernel_error(error)\n\u001b[0;32m--> 280\u001b[0m \u001b[38;5;28;01mraise\u001b[39;00m ak\u001b[38;5;241m.\u001b[39m_errors\u001b[38;5;241m.\u001b[39mindex_error(\u001b[38;5;28mself\u001b[39m, slicer, message)\n",
      "\u001b[0;31mIndexError\u001b[0m: cannot slice ListArray (of length 4) with array(0): index out of range while attempting to get index 0 (in compiled code: https://github.com/scikit-hep/awkward/blob/awkward-cpp-24/awkward-cpp/src/cpu-kernels/awkward_NumpyArray_getitem_next_at.cpp#L21)",
      "\nThe above exception was the direct cause of the following exception:\n",
      "\u001b[0;31mIndexError\u001b[0m                                Traceback (most recent call last)",
      "Cell \u001b[0;32mIn[66], line 1\u001b[0m\n\u001b[0;32m----> 1\u001b[0m \u001b[43marray\u001b[49m\u001b[43m[\u001b[49m\u001b[43m:\u001b[49m\u001b[43m,\u001b[49m\u001b[43m \u001b[49m\u001b[38;5;241;43m0\u001b[39;49m\u001b[43m]\u001b[49m\n",
      "File \u001b[0;32m~/Git/awkward-array-primer/.env/lib/python3.10/site-packages/awkward/highlevel.py:1012\u001b[0m, in \u001b[0;36mArray.__getitem__\u001b[0;34m(self, where)\u001b[0m\n\u001b[1;32m    583\u001b[0m \u001b[38;5;28;01mdef\u001b[39;00m \u001b[38;5;21m__getitem__\u001b[39m(\u001b[38;5;28mself\u001b[39m, where):\n\u001b[1;32m    584\u001b[0m \u001b[38;5;250m    \u001b[39m\u001b[38;5;124;03m\"\"\"\u001b[39;00m\n\u001b[1;32m    585\u001b[0m \u001b[38;5;124;03m    Args:\u001b[39;00m\n\u001b[1;32m    586\u001b[0m \u001b[38;5;124;03m        where (many types supported; see below): Index of positions to\u001b[39;00m\n\u001b[0;32m   (...)\u001b[0m\n\u001b[1;32m   1010\u001b[0m \u001b[38;5;124;03m    have the same dimension as the array being indexed.\u001b[39;00m\n\u001b[1;32m   1011\u001b[0m \u001b[38;5;124;03m    \"\"\"\u001b[39;00m\n\u001b[0;32m-> 1012\u001b[0m     \u001b[38;5;28;01mwith\u001b[39;00m ak\u001b[38;5;241m.\u001b[39m_errors\u001b[38;5;241m.\u001b[39mSlicingErrorContext(\u001b[38;5;28mself\u001b[39m, where):\n\u001b[1;32m   1013\u001b[0m         \u001b[38;5;28;01mreturn\u001b[39;00m wrap_layout(\n\u001b[1;32m   1014\u001b[0m             prepare_layout(\u001b[38;5;28mself\u001b[39m\u001b[38;5;241m.\u001b[39m_layout[where]), \u001b[38;5;28mself\u001b[39m\u001b[38;5;241m.\u001b[39m_behavior, allow_other\u001b[38;5;241m=\u001b[39m\u001b[38;5;28;01mTrue\u001b[39;00m\n\u001b[1;32m   1015\u001b[0m         )\n",
      "File \u001b[0;32m~/Git/awkward-array-primer/.env/lib/python3.10/site-packages/awkward/_errors.py:67\u001b[0m, in \u001b[0;36mErrorContext.__exit__\u001b[0;34m(self, exception_type, exception_value, traceback)\u001b[0m\n\u001b[1;32m     60\u001b[0m \u001b[38;5;28;01mtry\u001b[39;00m:\n\u001b[1;32m     61\u001b[0m     \u001b[38;5;66;03m# Handle caught exception\u001b[39;00m\n\u001b[1;32m     62\u001b[0m     \u001b[38;5;28;01mif\u001b[39;00m (\n\u001b[1;32m     63\u001b[0m         exception_type \u001b[38;5;129;01mis\u001b[39;00m \u001b[38;5;129;01mnot\u001b[39;00m \u001b[38;5;28;01mNone\u001b[39;00m\n\u001b[1;32m     64\u001b[0m         \u001b[38;5;129;01mand\u001b[39;00m \u001b[38;5;28missubclass\u001b[39m(exception_type, \u001b[38;5;167;01mException\u001b[39;00m)\n\u001b[1;32m     65\u001b[0m         \u001b[38;5;129;01mand\u001b[39;00m \u001b[38;5;28mself\u001b[39m\u001b[38;5;241m.\u001b[39mprimary() \u001b[38;5;129;01mis\u001b[39;00m \u001b[38;5;28mself\u001b[39m\n\u001b[1;32m     66\u001b[0m     ):\n\u001b[0;32m---> 67\u001b[0m         \u001b[38;5;28;43mself\u001b[39;49m\u001b[38;5;241;43m.\u001b[39;49m\u001b[43mhandle_exception\u001b[49m\u001b[43m(\u001b[49m\u001b[43mexception_type\u001b[49m\u001b[43m,\u001b[49m\u001b[43m \u001b[49m\u001b[43mexception_value\u001b[49m\u001b[43m)\u001b[49m\n\u001b[1;32m     68\u001b[0m \u001b[38;5;28;01mfinally\u001b[39;00m:\n\u001b[1;32m     69\u001b[0m     \u001b[38;5;66;03m# `_kwargs` may hold cyclic references, that we really want to avoid\u001b[39;00m\n\u001b[1;32m     70\u001b[0m     \u001b[38;5;66;03m# as this can lead to large buffers remaining in memory for longer than absolutely necessary\u001b[39;00m\n\u001b[1;32m     71\u001b[0m     \u001b[38;5;66;03m# Let's just clear this, now.\u001b[39;00m\n\u001b[1;32m     72\u001b[0m     \u001b[38;5;28mself\u001b[39m\u001b[38;5;241m.\u001b[39m_kwargs\u001b[38;5;241m.\u001b[39mclear()\n",
      "File \u001b[0;32m~/Git/awkward-array-primer/.env/lib/python3.10/site-packages/awkward/_errors.py:82\u001b[0m, in \u001b[0;36mErrorContext.handle_exception\u001b[0;34m(self, cls, exception)\u001b[0m\n\u001b[1;32m     80\u001b[0m     \u001b[38;5;28mself\u001b[39m\u001b[38;5;241m.\u001b[39mdecorate_exception(\u001b[38;5;28mcls\u001b[39m, exception)\n\u001b[1;32m     81\u001b[0m \u001b[38;5;28;01melse\u001b[39;00m:\n\u001b[0;32m---> 82\u001b[0m     \u001b[38;5;28;01mraise\u001b[39;00m \u001b[38;5;28mself\u001b[39m\u001b[38;5;241m.\u001b[39mdecorate_exception(\u001b[38;5;28mcls\u001b[39m, exception)\n",
      "\u001b[0;31mIndexError\u001b[0m: cannot slice ListArray (of length 4) with array(0): index out of range while attempting to get index 0 (in compiled code: https://github.com/scikit-hep/awkward/blob/awkward-cpp-24/awkward-cpp/src/cpu-kernels/awkward_NumpyArray_getitem_next_at.cpp#L21)\n\nThis error occurred while attempting to slice\n\n    <Array [[1, 2, 4], [], [None, 8], [16]] type='4 * var * ?int64'>\n\nwith\n\n    (:, 0)"
     ]
    }
   ],
   "source": [
    "array[:, 0]"
   ]
  },
  {
   "cell_type": "code",
   "execution_count": 68,
   "id": "b2ec541d-6b69-4312-8e11-0336add44986",
   "metadata": {
    "editable": true,
    "slideshow": {
     "slide_type": "fragment"
    },
    "tags": []
   },
   "outputs": [
    {
     "data": {
      "text/html": [
       "<pre>[1,\n",
       " None,\n",
       " None,\n",
       " 16]\n",
       "----------------\n",
       "type: 4 * ?int64</pre>"
      ],
      "text/plain": [
       "<Array [1, None, None, 16] type='4 * ?int64'>"
      ]
     },
     "execution_count": 68,
     "metadata": {},
     "output_type": "execute_result"
    }
   ],
   "source": [
    "ak.firsts(array, axis=1)"
   ]
  },
  {
   "cell_type": "markdown",
   "id": "eb421203-9225-4209-bff9-a2ef1dbf98e8",
   "metadata": {
    "editable": true,
    "slideshow": {
     "slide_type": "slide"
    },
    "tags": []
   },
   "source": [
    "## Columnar Representation"
   ]
  },
  {
   "cell_type": "markdown",
   "id": "ff5c3987-c815-48d9-8655-fb6bf5320cd6",
   "metadata": {
    "editable": true,
    "slideshow": {
     "slide_type": "subslide"
    },
    "tags": []
   },
   "source": [
    "Arrays are represented in-memory in columnar format:"
   ]
  },
  {
   "cell_type": "code",
   "execution_count": 10,
   "id": "5e4a3fa1-747d-4a5a-b1b0-9240bf1f30b4",
   "metadata": {
    "editable": true,
    "slideshow": {
     "slide_type": "fragment"
    },
    "tags": []
   },
   "outputs": [
    {
     "data": {
      "text/plain": [
       "<ListOffsetArray len='3'>\n",
       "    <offsets><Index dtype='int64' len='4'>\n",
       "        [0 3 7 9]\n",
       "    </Index></offsets>\n",
       "    <content><NumpyArray dtype='int64' len='9'>[1 2 3 4 5 6 7 8 9]</NumpyArray></content>\n",
       "</ListOffsetArray>"
      ]
     },
     "execution_count": 10,
     "metadata": {},
     "output_type": "execute_result"
    }
   ],
   "source": [
    "array = ak.Array([\n",
    "    [1, 2, 3],\n",
    "    [4, 5, 6, 7],\n",
    "    [8, 9]\n",
    "]) \n",
    "array.layout"
   ]
  },
  {
   "cell_type": "code",
   "execution_count": 11,
   "id": "b7bfc875-4d29-483d-81f5-918d6b8839d1",
   "metadata": {
    "editable": true,
    "slideshow": {
     "slide_type": "fragment"
    },
    "tags": []
   },
   "outputs": [
    {
     "data": {
      "text/plain": [
       "<ListOffsetArray len='3'>\n",
       "    <offsets><Index dtype='int64' len='4'>\n",
       "        [0 2 4 5]\n",
       "    </Index></offsets>\n",
       "    <content><ListOffsetArray len='5'>\n",
       "        <offsets><Index dtype='int64' len='6'>[0 2 3 6 7 9]</Index></offsets>\n",
       "        <content><NumpyArray dtype='int64' len='9'>[1 2 3 4 5 6 7 8 9]</NumpyArray></content>\n",
       "    </ListOffsetArray></content>\n",
       "</ListOffsetArray>"
      ]
     },
     "execution_count": 11,
     "metadata": {},
     "output_type": "execute_result"
    }
   ],
   "source": [
    "array = ak.Array([\n",
    "    [\n",
    "        [1, 2], [3]\n",
    "    ],\n",
    "    [\n",
    "        [4, 5, 6], [7]\n",
    "    ],\n",
    "    [\n",
    "        [8, 9]\n",
    "    ]\n",
    "])\n",
    "array.layout"
   ]
  },
  {
   "cell_type": "markdown",
   "id": "3b7d3aec-3038-48f4-806e-21f595737142",
   "metadata": {
    "editable": true,
    "slideshow": {
     "slide_type": "subslide"
    },
    "tags": []
   },
   "source": [
    "And can easily be composed to form new arrays"
   ]
  },
  {
   "cell_type": "code",
   "execution_count": 12,
   "id": "ef7b647c-0bab-48e0-b35a-40f8d016163d",
   "metadata": {
    "editable": true,
    "slideshow": {
     "slide_type": "fragment"
    },
    "tags": []
   },
   "outputs": [
    {
     "data": {
      "text/html": [
       "<pre>[1,\n",
       " 2,\n",
       " 3,\n",
       " 4,\n",
       " 5,\n",
       " 6,\n",
       " 7,\n",
       " 8,\n",
       " 9]\n",
       "---------------\n",
       "type: 9 * int64</pre>"
      ],
      "text/plain": [
       "<Array [1, 2, 3, 4, 5, 6, 7, 8, 9] type='9 * int64'>"
      ]
     },
     "execution_count": 12,
     "metadata": {},
     "output_type": "execute_result"
    }
   ],
   "source": [
    "array = ak.Array([1, 2, 3, 4, 5, 6, 7, 8, 9])\n",
    "array"
   ]
  },
  {
   "cell_type": "code",
   "execution_count": 13,
   "id": "c84de7c2-2e08-42bc-8d68-04e90f2a63b0",
   "metadata": {
    "editable": true,
    "slideshow": {
     "slide_type": "fragment"
    },
    "tags": []
   },
   "outputs": [
    {
     "data": {
      "text/html": [
       "<pre>[[1, 2],\n",
       " [3],\n",
       " [4, 5, 6],\n",
       " [7],\n",
       " [8, 9]]\n",
       "---------------------\n",
       "type: 5 * var * int64</pre>"
      ],
      "text/plain": [
       "<Array [[1, 2], [3], [4, 5, 6], [7], [8, 9]] type='5 * var * int64'>"
      ]
     },
     "execution_count": 13,
     "metadata": {},
     "output_type": "execute_result"
    }
   ],
   "source": [
    "ak.unflatten(\n",
    "    array,\n",
    "    counts=[2, 1, 3, 1, 2]\n",
    ")"
   ]
  },
  {
   "cell_type": "markdown",
   "id": "02a5b911-bc95-4bcb-9017-c44299702aec",
   "metadata": {
    "editable": true,
    "slideshow": {
     "slide_type": "fragment"
    },
    "tags": []
   },
   "source": [
    "Because of this representation, it's easy to compose arrays into records"
   ]
  },
  {
   "cell_type": "code",
   "execution_count": 14,
   "id": "1c9d8f90-d5a0-438c-8dbe-310caaf891d8",
   "metadata": {
    "editable": true,
    "slideshow": {
     "slide_type": ""
    },
    "tags": []
   },
   "outputs": [
    {
     "data": {
      "text/html": [
       "<pre>[{x: 1, y: 5},\n",
       " {x: 2, y: 6},\n",
       " {x: 3, y: 7},\n",
       " {x: 4, y: 8}]\n",
       "--------------\n",
       "type: 4 * {\n",
       "    x: int64,\n",
       "    y: int64\n",
       "}</pre>"
      ],
      "text/plain": [
       "<Array [{x: 1, y: 5}, {...}, ..., {x: 4, y: 8}] type='4 * {x: int64, y: int64}'>"
      ]
     },
     "execution_count": 14,
     "metadata": {},
     "output_type": "execute_result"
    }
   ],
   "source": [
    "ak.zip({\n",
    "    'x': [1, 2, 3, 4],\n",
    "    'y': [5, 6, 7, 8]\n",
    "})"
   ]
  },
  {
   "cell_type": "markdown",
   "id": "5d8c2427-d06b-4c9c-87e9-272db25559cb",
   "metadata": {
    "editable": true,
    "slideshow": {
     "slide_type": "subslide"
    },
    "tags": []
   },
   "source": [
    "It's very easy to move between structured and in-memory representation"
   ]
  },
  {
   "cell_type": "code",
   "execution_count": 27,
   "id": "605ac6ca-a1a9-40bc-80a0-bec370513d1d",
   "metadata": {
    "editable": true,
    "slideshow": {
     "slide_type": "fragment"
    },
    "tags": []
   },
   "outputs": [
    {
     "data": {
      "text/html": [
       "<pre>[[1, 2, 4],\n",
       " [],\n",
       " [None, 8],\n",
       " [16]]\n",
       "----------------------\n",
       "type: 4 * var * ?int64</pre>"
      ],
      "text/plain": [
       "<Array [[1, 2, 4], [], [None, 8], [16]] type='4 * var * ?int64'>"
      ]
     },
     "execution_count": 27,
     "metadata": {},
     "output_type": "execute_result"
    }
   ],
   "source": [
    "array"
   ]
  },
  {
   "attachments": {},
   "cell_type": "markdown",
   "id": "4d5b8a14-6946-43e4-9b71-1860386c8c25",
   "metadata": {
    "editable": true,
    "slideshow": {
     "slide_type": "fragment"
    },
    "tags": []
   },
   "source": [
    "We provide a function `ak.to_buffers` that can decompose an Array into its data and structure"
   ]
  },
  {
   "cell_type": "code",
   "execution_count": 28,
   "id": "6d934d4f-c96f-4551-b2e0-c3132504cb62",
   "metadata": {
    "editable": true,
    "slideshow": {
     "slide_type": ""
    },
    "tags": []
   },
   "outputs": [],
   "source": [
    "form, length, container = ak.to_buffers(array)"
   ]
  },
  {
   "cell_type": "markdown",
   "id": "752d630f-dcb7-43fb-a490-2b5d4d144bdf",
   "metadata": {
    "editable": true,
    "slideshow": {
     "slide_type": "fragment"
    },
    "tags": []
   },
   "source": [
    "The `form` is a high-level representation of an Array's structure"
   ]
  },
  {
   "cell_type": "code",
   "execution_count": 29,
   "id": "a48acfbd-dfe6-4422-b09f-ace86324fef2",
   "metadata": {
    "editable": true,
    "slideshow": {
     "slide_type": ""
    },
    "tags": []
   },
   "outputs": [
    {
     "data": {
      "text/plain": [
       "ListOffsetForm('i64', IndexedOptionForm('i64', NumpyForm('int64', form_key='node2'), form_key='node1'), form_key='node0')"
      ]
     },
     "execution_count": 29,
     "metadata": {},
     "output_type": "execute_result"
    }
   ],
   "source": [
    "form"
   ]
  },
  {
   "cell_type": "markdown",
   "id": "397c81a8-2e7f-4476-925d-ee8d8fe6f01f",
   "metadata": {
    "editable": true,
    "slideshow": {
     "slide_type": "fragment"
    },
    "tags": []
   },
   "source": [
    "Forms are just JSON!"
   ]
  },
  {
   "cell_type": "code",
   "execution_count": 30,
   "id": "5258fa08-36f3-4c18-9c67-c9bc09f038c9",
   "metadata": {
    "editable": true,
    "slideshow": {
     "slide_type": ""
    },
    "tags": []
   },
   "outputs": [
    {
     "name": "stdout",
     "output_type": "stream",
     "text": [
      "{\"class\": \"ListOffsetArray\", \"offsets\": \"i64\", \"content\": {\"class\": \"IndexedOptionArray\", \"index\": \"i64\", \"content\": {\"class\": \"NumpyArray\", \"primitive\": \"int64\", \"inner_shape\": [], \"parameters\": {}, \"form_key\": \"node2\"}, \"parameters\": {}, \"form_key\": \"node1\"}, \"parameters\": {}, \"form_key\": \"node0\"}\n"
     ]
    }
   ],
   "source": [
    "print(form.to_json())"
   ]
  },
  {
   "cell_type": "code",
   "execution_count": 31,
   "id": "9c33e098-a0f8-4504-8afe-0317f2ae1632",
   "metadata": {
    "editable": true,
    "slideshow": {
     "slide_type": "fragment"
    },
    "tags": []
   },
   "outputs": [
    {
     "data": {
      "text/plain": [
       "4"
      ]
     },
     "execution_count": 31,
     "metadata": {},
     "output_type": "execute_result"
    }
   ],
   "source": [
    "length"
   ]
  },
  {
   "cell_type": "code",
   "execution_count": 32,
   "id": "51e32c42-f6c0-49ce-a897-fdadc92a425a",
   "metadata": {
    "editable": true,
    "slideshow": {
     "slide_type": "fragment"
    },
    "tags": []
   },
   "outputs": [
    {
     "data": {
      "text/plain": [
       "{'node0-offsets': array([0, 3, 3, 5, 6]),\n",
       " 'node1-index': array([ 0,  1,  2, -1,  3,  4]),\n",
       " 'node2-data': array([ 1,  2,  4,  8, 16])}"
      ]
     },
     "execution_count": 32,
     "metadata": {},
     "output_type": "execute_result"
    }
   ],
   "source": [
    "container"
   ]
  },
  {
   "cell_type": "markdown",
   "id": "a91ce4ff-dd73-4cdf-b231-27ce459b712e",
   "metadata": {
    "editable": true,
    "slideshow": {
     "slide_type": "fragment"
    },
    "tags": []
   },
   "source": [
    "It is trivial to reassemble these components into an Array"
   ]
  },
  {
   "cell_type": "code",
   "execution_count": 33,
   "id": "609a0c42-557d-4e0b-9221-7332f6600357",
   "metadata": {
    "editable": true,
    "slideshow": {
     "slide_type": ""
    },
    "tags": []
   },
   "outputs": [
    {
     "data": {
      "text/html": [
       "<pre>[[1, 2, 4],\n",
       " [],\n",
       " [None, 8],\n",
       " [16]]\n",
       "----------------------\n",
       "type: 4 * var * ?int64</pre>"
      ],
      "text/plain": [
       "<Array [[1, 2, 4], [], [None, 8], [16]] type='4 * var * ?int64'>"
      ]
     },
     "execution_count": 33,
     "metadata": {},
     "output_type": "execute_result"
    }
   ],
   "source": [
    "ak.from_buffers(form, length, container)"
   ]
  },
  {
   "cell_type": "markdown",
   "id": "8dc99110-6a73-41ca-8060-2823b806912d",
   "metadata": {
    "editable": true,
    "slideshow": {
     "slide_type": "slide"
    },
    "tags": []
   },
   "source": [
    "## (Byte)Strings"
   ]
  },
  {
   "cell_type": "markdown",
   "id": "2a947902-14d9-43df-b073-4c5c8aacaf08",
   "metadata": {
    "editable": true,
    "slideshow": {
     "slide_type": "subslide"
    },
    "tags": []
   },
   "source": [
    "In Awkward Array, bytestrings are views over an array of bytes"
   ]
  },
  {
   "cell_type": "code",
   "execution_count": 45,
   "id": "6159ba0d-4dc3-4385-8896-200e5b7dc394",
   "metadata": {
    "editable": true,
    "slideshow": {
     "slide_type": ""
    },
    "tags": []
   },
   "outputs": [
    {
     "data": {
      "text/html": [
       "<pre>[b&#x27;I am&#x27;,\n",
       " b&#x27;a list&#x27;,\n",
       " b&#x27;of strings!&#x27;]\n",
       "----------------\n",
       "type: 3 * bytes</pre>"
      ],
      "text/plain": [
       "<Array [b'I am', b'a list', b'of strings!'] type='3 * bytes'>"
      ]
     },
     "execution_count": 45,
     "metadata": {},
     "output_type": "execute_result"
    }
   ],
   "source": [
    "ak_bytestrings = ak.Array([\n",
    "    b\"I am\", b\"a list\", b\"of strings!\"\n",
    "])\n",
    "ak_bytestrings"
   ]
  },
  {
   "cell_type": "code",
   "execution_count": 69,
   "id": "6a975391-4f05-49ef-a3ac-c99dc615a15a",
   "metadata": {
    "editable": true,
    "slideshow": {
     "slide_type": "fragment"
    },
    "tags": []
   },
   "outputs": [
    {
     "data": {
      "text/plain": [
       "<ListOffsetArray len='3'>\n",
       "    <parameter name='__array__'>'bytestring'</parameter>\n",
       "    <offsets><Index dtype='int64' len='4'>\n",
       "        [ 0  4 10 21]\n",
       "    </Index></offsets>\n",
       "    <content><NumpyArray dtype='uint8' len='21'>\n",
       "        <parameter name='__array__'>'byte'</parameter>\n",
       "        [ 73  32  97 109  97  32 108 105 115 116 111 102  32 115 116 114 105\n",
       "         110 103 115  33]\n",
       "    </NumpyArray></content>\n",
       "</ListOffsetArray>"
      ]
     },
     "execution_count": 69,
     "metadata": {},
     "output_type": "execute_result"
    }
   ],
   "source": [
    "ak_bytestrings.layout"
   ]
  },
  {
   "cell_type": "markdown",
   "id": "ae46eb13-2de8-48e4-ae38-f648bd9d94d3",
   "metadata": {
    "editable": true,
    "slideshow": {
     "slide_type": "fragment"
    },
    "tags": []
   },
   "source": [
    "Let's drop our string abstraction, to see the raw bytes"
   ]
  },
  {
   "cell_type": "code",
   "execution_count": 47,
   "id": "3585d380-558c-482e-acc3-89d3b275a152",
   "metadata": {
    "editable": true,
    "slideshow": {
     "slide_type": ""
    },
    "tags": []
   },
   "outputs": [
    {
     "data": {
      "text/html": [
       "<pre>[[73, 32, 97, 109],\n",
       " [97, 32, 108, 105, 115, 116],\n",
       " [111, 102, 32, 115, 116, 114, 105, 110, 103, 115, 33]]\n",
       "-------------------------------------------------------\n",
       "type: 3 * var * uint8</pre>"
      ],
      "text/plain": [
       "<Array [[73, 32, 97, 109], ..., [111, 102, ..., 33]] type='3 * var * uint8'>"
      ]
     },
     "execution_count": 47,
     "metadata": {},
     "output_type": "execute_result"
    }
   ],
   "source": [
    "ak.without_parameters(ak_bytestrings)"
   ]
  },
  {
   "cell_type": "markdown",
   "id": "08998fc8-241b-4e50-8000-455c3dd20d8c",
   "metadata": {
    "editable": true,
    "slideshow": {
     "slide_type": "fragment"
    },
    "tags": []
   },
   "source": [
    "Now we constrast this with NumPy, which only has fixed-length bytestrings"
   ]
  },
  {
   "cell_type": "code",
   "execution_count": 46,
   "id": "ba14ae0f-196f-4c42-ad25-3c4b5fd1b12e",
   "metadata": {
    "editable": true,
    "slideshow": {
     "slide_type": ""
    },
    "tags": []
   },
   "outputs": [
    {
     "data": {
      "text/plain": [
       "array([b'I am', b'a list', b'of strings!'], dtype='|S11')"
      ]
     },
     "execution_count": 46,
     "metadata": {},
     "output_type": "execute_result"
    }
   ],
   "source": [
    "import numpy as np\n",
    "bytestrings = np.array([b\"I am\", b\"a list\", b\"of strings!\"])\n",
    "bytestrings"
   ]
  },
  {
   "cell_type": "code",
   "execution_count": 44,
   "id": "cc04a482-20ca-4985-9110-8d86b6e412d6",
   "metadata": {
    "editable": true,
    "slideshow": {
     "slide_type": "fragment"
    },
    "tags": []
   },
   "outputs": [
    {
     "data": {
      "text/plain": [
       "array([[ 73,  32,  97, 109,   0,   0,   0,   0,   0,   0,   0],\n",
       "       [ 97,  32, 108, 105, 115, 116,   0,   0,   0,   0,   0],\n",
       "       [111, 102,  32, 115, 116, 114, 105, 110, 103, 115,  33]],\n",
       "      dtype=uint8)"
      ]
     },
     "execution_count": 44,
     "metadata": {},
     "output_type": "execute_result"
    }
   ],
   "source": [
    "bytestrings.view(np.uint8).reshape(-1, 11)"
   ]
  },
  {
   "cell_type": "markdown",
   "id": "3ab292ea-b7d7-4f79-b5ec-6a80b34bc6b7",
   "metadata": {
    "editable": true,
    "slideshow": {
     "slide_type": "subslide"
    },
    "tags": []
   },
   "source": [
    "Awkward also supports strings, using UTF-8 variable-length encoding:"
   ]
  },
  {
   "cell_type": "code",
   "execution_count": 48,
   "id": "2fd948fe-af79-4689-92f7-4530e0491b5b",
   "metadata": {
    "editable": true,
    "slideshow": {
     "slide_type": ""
    },
    "tags": []
   },
   "outputs": [
    {
     "data": {
      "text/html": [
       "<pre>[&#x27;I am&#x27;,\n",
       " &#x27;a list&#x27;,\n",
       " &#x27;of strings!&#x27;]\n",
       "----------------\n",
       "type: 3 * string</pre>"
      ],
      "text/plain": [
       "<Array ['I am', 'a list', 'of strings!'] type='3 * string'>"
      ]
     },
     "execution_count": 48,
     "metadata": {},
     "output_type": "execute_result"
    }
   ],
   "source": [
    "ak_strings = ak.Array([\"I am\", \"a list\", \"of strings!\"])\n",
    "ak_strings"
   ]
  },
  {
   "cell_type": "markdown",
   "id": "a26e7be3-115d-4ed6-aa5f-25dd95b9ca6d",
   "metadata": {
    "editable": true,
    "slideshow": {
     "slide_type": "fragment"
    },
    "tags": []
   },
   "source": [
    "As before, let's drop our string abstraction, to see the raw code units"
   ]
  },
  {
   "cell_type": "code",
   "execution_count": 50,
   "id": "d479eb6f-e498-408c-8086-533b64311908",
   "metadata": {
    "editable": true,
    "slideshow": {
     "slide_type": ""
    },
    "tags": []
   },
   "outputs": [
    {
     "data": {
      "text/html": [
       "<pre>[[73, 32, 97, 109],\n",
       " [97, 32, 108, 105, 115, 116],\n",
       " [111, 102, 32, 115, 116, 114, 105, 110, 103, 115, 33]]\n",
       "-------------------------------------------------------\n",
       "type: 3 * var * uint8</pre>"
      ],
      "text/plain": [
       "<Array [[73, 32, 97, 109], ..., [111, 102, ..., 33]] type='3 * var * uint8'>"
      ]
     },
     "execution_count": 50,
     "metadata": {},
     "output_type": "execute_result"
    }
   ],
   "source": [
    "ak.without_parameters(ak_strings)"
   ]
  },
  {
   "cell_type": "markdown",
   "id": "6beca669-2674-4d98-9053-8332029a5c37",
   "metadata": {
    "editable": true,
    "slideshow": {
     "slide_type": "fragment"
    },
    "tags": []
   },
   "source": [
    "NumPy's strings are encoded using (fixed-length) UTF-32, meaning that they're typically larger"
   ]
  },
  {
   "cell_type": "code",
   "execution_count": 51,
   "id": "1a923178-5df4-4fa5-97cc-e5b9a0cb5918",
   "metadata": {
    "editable": true,
    "slideshow": {
     "slide_type": ""
    },
    "tags": []
   },
   "outputs": [
    {
     "data": {
      "text/plain": [
       "array(['I am', 'a list', 'of strings!'], dtype='<U11')"
      ]
     },
     "execution_count": 51,
     "metadata": {},
     "output_type": "execute_result"
    }
   ],
   "source": [
    "strings = np.array([\"I am\", \"a list\", \"of strings!\"])\n",
    "strings"
   ]
  },
  {
   "cell_type": "code",
   "execution_count": 39,
   "id": "880f437c-edef-4e57-836c-bb43334a6d78",
   "metadata": {
    "editable": true,
    "slideshow": {
     "slide_type": "fragment"
    },
    "tags": []
   },
   "outputs": [
    {
     "data": {
      "text/plain": [
       "array([[[ 73,   0,   0,   0],\n",
       "        [ 32,   0,   0,   0],\n",
       "        [ 97,   0,   0,   0],\n",
       "        [109,   0,   0,   0],\n",
       "        [  0,   0,   0,   0],\n",
       "        [  0,   0,   0,   0],\n",
       "        [  0,   0,   0,   0],\n",
       "        [  0,   0,   0,   0],\n",
       "        [  0,   0,   0,   0],\n",
       "        [  0,   0,   0,   0],\n",
       "        [  0,   0,   0,   0]],\n",
       "\n",
       "       [[ 97,   0,   0,   0],\n",
       "        [ 32,   0,   0,   0],\n",
       "        [108,   0,   0,   0],\n",
       "        [105,   0,   0,   0],\n",
       "        [115,   0,   0,   0],\n",
       "        [116,   0,   0,   0],\n",
       "        [  0,   0,   0,   0],\n",
       "        [  0,   0,   0,   0],\n",
       "        [  0,   0,   0,   0],\n",
       "        [  0,   0,   0,   0],\n",
       "        [  0,   0,   0,   0]],\n",
       "\n",
       "       [[111,   0,   0,   0],\n",
       "        [102,   0,   0,   0],\n",
       "        [ 32,   0,   0,   0],\n",
       "        [115,   0,   0,   0],\n",
       "        [116,   0,   0,   0],\n",
       "        [114,   0,   0,   0],\n",
       "        [105,   0,   0,   0],\n",
       "        [110,   0,   0,   0],\n",
       "        [103,   0,   0,   0],\n",
       "        [115,   0,   0,   0],\n",
       "        [ 33,   0,   0,   0]]], dtype=uint8)"
      ]
     },
     "execution_count": 39,
     "metadata": {},
     "output_type": "execute_result"
    }
   ],
   "source": [
    "strings.view(np.uint8).reshape(-1, 11, 4)"
   ]
  },
  {
   "cell_type": "markdown",
   "id": "f21b551a-1dff-4d18-be71-f758e34264b8",
   "metadata": {
    "editable": true,
    "slideshow": {
     "slide_type": "subslide"
    },
    "tags": []
   },
   "source": [
    "Through PyArrow, we provide a suite of string operations"
   ]
  },
  {
   "cell_type": "code",
   "execution_count": 40,
   "id": "bb57e1a4-d719-4cfa-a0b1-c3797a345f10",
   "metadata": {
    "editable": true,
    "slideshow": {
     "slide_type": "fragment"
    },
    "tags": []
   },
   "outputs": [
    {
     "data": {
      "text/html": [
       "<pre>[[&#x27;A&#x27;, &#x27;&quot;Hello,&#x27;, &#x27;World!&quot;&#x27;, &#x27;program&#x27;, ..., &#x27;that&#x27;, &#x27;ignores&#x27;, &#x27;any&#x27;, &#x27;input&#x27;]]\n",
       "--------------------------------------------------------------------------------\n",
       "type: 1 * var * string</pre>"
      ],
      "text/plain": [
       "<Array [['A', '\"Hello,', ..., 'any', 'input']] type='1 * var * string'>"
      ]
     },
     "execution_count": 40,
     "metadata": {},
     "output_type": "execute_result"
    }
   ],
   "source": [
    "array = ak.str.split_whitespace(\n",
    "    [\"A \\\"Hello, World!\\\" program is generally a computer program that ignores any input\"]\n",
    ")\n",
    "array"
   ]
  },
  {
   "cell_type": "code",
   "execution_count": 41,
   "id": "607bc257-aced-4acf-8260-d5dc598fa1bb",
   "metadata": {
    "editable": true,
    "slideshow": {
     "slide_type": "fragment"
    },
    "tags": []
   },
   "outputs": [
    {
     "data": {
      "text/html": [
       "<pre>[[&#x27;A&#x27;, &#x27;&quot;HELLO,&#x27;, &#x27;WORLD!&quot;&#x27;, &#x27;PROGRAM&#x27;, ..., &#x27;THAT&#x27;, &#x27;IGNORES&#x27;, &#x27;ANY&#x27;, &#x27;INPUT&#x27;]]\n",
       "--------------------------------------------------------------------------------\n",
       "type: 1 * var * string</pre>"
      ],
      "text/plain": [
       "<Array [['A', '\"HELLO,', ..., 'ANY', 'INPUT']] type='1 * var * string'>"
      ]
     },
     "execution_count": 41,
     "metadata": {},
     "output_type": "execute_result"
    }
   ],
   "source": [
    "ak.str.upper(\n",
    "    array\n",
    ")"
   ]
  },
  {
   "cell_type": "markdown",
   "id": "0948f059-d09b-4cc5-9535-52f9dce1afc8",
   "metadata": {
    "editable": true,
    "slideshow": {
     "slide_type": "fragment"
    },
    "tags": []
   },
   "source": [
    "Awkward extends PyArrow's string operations into more complex structures"
   ]
  },
  {
   "cell_type": "code",
   "execution_count": 56,
   "id": "3f76f957-ca09-4b71-a9fd-0ad5f17a627c",
   "metadata": {
    "editable": true,
    "slideshow": {
     "slide_type": ""
    },
    "tags": [
     "raises-exception"
    ]
   },
   "outputs": [
    {
     "ename": "ArrowNotImplementedError",
     "evalue": "Function 'ascii_upper' has no kernel matching input types (list<item: string>)",
     "output_type": "error",
     "traceback": [
      "\u001b[0;31m---------------------------------------------------------------------------\u001b[0m",
      "\u001b[0;31mArrowNotImplementedError\u001b[0m                  Traceback (most recent call last)",
      "Cell \u001b[0;32mIn[56], line 4\u001b[0m\n\u001b[1;32m      1\u001b[0m \u001b[38;5;28;01mimport\u001b[39;00m \u001b[38;5;21;01mpyarrow\u001b[39;00m\u001b[38;5;241m,\u001b[39m \u001b[38;5;21;01mpyarrow\u001b[39;00m\u001b[38;5;21;01m.\u001b[39;00m\u001b[38;5;21;01mcompute\u001b[39;00m\n\u001b[1;32m      3\u001b[0m list_of_strings \u001b[38;5;241m=\u001b[39m pyarrow\u001b[38;5;241m.\u001b[39marray([[\u001b[38;5;124m\"\u001b[39m\u001b[38;5;124mhello\u001b[39m\u001b[38;5;124m\"\u001b[39m, \u001b[38;5;124m\"\u001b[39m\u001b[38;5;124mworld\u001b[39m\u001b[38;5;124m\"\u001b[39m], [\u001b[38;5;124m\"\u001b[39m\u001b[38;5;124mhello!\u001b[39m\u001b[38;5;124m\"\u001b[39m]])\n\u001b[0;32m----> 4\u001b[0m \u001b[43mpyarrow\u001b[49m\u001b[38;5;241;43m.\u001b[39;49m\u001b[43mcompute\u001b[49m\u001b[38;5;241;43m.\u001b[39;49m\u001b[43mascii_upper\u001b[49m\u001b[43m(\u001b[49m\u001b[43mlist_of_strings\u001b[49m\u001b[43m)\u001b[49m\n",
      "File \u001b[0;32m~/Git/awkward-array-primer/.env/lib/python3.10/site-packages/pyarrow/compute.py:245\u001b[0m, in \u001b[0;36m_make_generic_wrapper.<locals>.wrapper\u001b[0;34m(memory_pool, *args)\u001b[0m\n\u001b[1;32m    243\u001b[0m \u001b[38;5;28;01mif\u001b[39;00m args \u001b[38;5;129;01mand\u001b[39;00m \u001b[38;5;28misinstance\u001b[39m(args[\u001b[38;5;241m0\u001b[39m], Expression):\n\u001b[1;32m    244\u001b[0m     \u001b[38;5;28;01mreturn\u001b[39;00m Expression\u001b[38;5;241m.\u001b[39m_call(func_name, \u001b[38;5;28mlist\u001b[39m(args))\n\u001b[0;32m--> 245\u001b[0m \u001b[38;5;28;01mreturn\u001b[39;00m \u001b[43mfunc\u001b[49m\u001b[38;5;241;43m.\u001b[39;49m\u001b[43mcall\u001b[49m\u001b[43m(\u001b[49m\u001b[43margs\u001b[49m\u001b[43m,\u001b[49m\u001b[43m \u001b[49m\u001b[38;5;28;43;01mNone\u001b[39;49;00m\u001b[43m,\u001b[49m\u001b[43m \u001b[49m\u001b[43mmemory_pool\u001b[49m\u001b[43m)\u001b[49m\n",
      "File \u001b[0;32m~/Git/awkward-array-primer/.env/lib/python3.10/site-packages/pyarrow/_compute.pyx:367\u001b[0m, in \u001b[0;36mpyarrow._compute.Function.call\u001b[0;34m()\u001b[0m\n",
      "File \u001b[0;32m~/Git/awkward-array-primer/.env/lib/python3.10/site-packages/pyarrow/error.pxi:144\u001b[0m, in \u001b[0;36mpyarrow.lib.pyarrow_internal_check_status\u001b[0;34m()\u001b[0m\n",
      "File \u001b[0;32m~/Git/awkward-array-primer/.env/lib/python3.10/site-packages/pyarrow/error.pxi:121\u001b[0m, in \u001b[0;36mpyarrow.lib.check_status\u001b[0;34m()\u001b[0m\n",
      "\u001b[0;31mArrowNotImplementedError\u001b[0m: Function 'ascii_upper' has no kernel matching input types (list<item: string>)"
     ]
    }
   ],
   "source": [
    "import pyarrow, pyarrow.compute\n",
    "\n",
    "list_of_strings = pyarrow.array([[\"hello\", \"world\"], [\"hello!\"]])\n",
    "pyarrow.compute.ascii_upper(list_of_strings)"
   ]
  },
  {
   "cell_type": "markdown",
   "id": "5b1ab568-62a3-4f52-910e-d7c4464dc3d8",
   "metadata": {
    "editable": true,
    "slideshow": {
     "slide_type": "fragment"
    },
    "tags": []
   },
   "source": [
    "PyArrow appears to be focused on interop (Arrow, Parquet, Feather), whereas Awkward is concerned with interactive analysis"
   ]
  }
 ],
 "metadata": {
  "kernelspec": {
   "display_name": "Python 3 (ipykernel)",
   "language": "python",
   "name": "python3"
  },
  "language_info": {
   "codemirror_mode": {
    "name": "ipython",
    "version": 3
   },
   "file_extension": ".py",
   "mimetype": "text/x-python",
   "name": "python",
   "nbconvert_exporter": "python",
   "pygments_lexer": "ipython3",
   "version": "3.10.12"
  }
 },
 "nbformat": 4,
 "nbformat_minor": 5
}
