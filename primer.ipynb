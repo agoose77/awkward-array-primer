{
 "cells": [
  {
   "cell_type": "markdown",
   "id": "77b9eed5-465d-4b4a-ac8e-d09aa0a246f3",
   "metadata": {
    "editable": true,
    "slideshow": {
     "slide_type": "slide"
    },
    "tags": []
   },
   "source": [
    "---\n",
    "title: Awkward Array Primer\n",
    "date: 2023-10-16\n",
    "authors:\n",
    "  - name: Angus Hollands\n",
    "    affiliations:\n",
    "      - Princeton University\n",
    "---"
   ]
  },
  {
   "cell_type": "markdown",
   "id": "782096f9-84e8-4b1c-8606-38ca1b36eca5",
   "metadata": {
    "editable": true,
    "slideshow": {
     "slide_type": "fragment"
    },
    "tags": []
   },
   "source": [
    "[Awkward Array](https://awkward-array.org/doc/main/) is \n",
    "> a library for nested, variable-sized data, including arbitrary-length lists, records, mixed types, and missing data, using NumPy-like idioms."
   ]
  },
  {
   "cell_type": "markdown",
   "id": "5c736c60-c491-458e-8c83-8a3d5dc1a2b5",
   "metadata": {
    "editable": true,
    "slideshow": {
     "slide_type": "subslide"
    },
    "tags": []
   },
   "source": [
    "Creating an Awkward Array is as simple as"
   ]
  },
  {
   "cell_type": "code",
   "execution_count": 1,
   "id": "eb9ce22e-67cc-4b12-bc4d-35295bdebade",
   "metadata": {
    "editable": true,
    "slideshow": {
     "slide_type": ""
    },
    "tags": []
   },
   "outputs": [
    {
     "data": {
      "text/html": [
       "<pre>[[&#x27;this&#x27;, &#x27;is&#x27;],\n",
       " [&#x27;a&#x27;, &#x27;ragged&#x27;, &#x27;list&#x27;, &#x27;of&#x27;, &#x27;strings&#x27;]]\n",
       "------------------------------------------\n",
       "type: 2 * var * string</pre>"
      ],
      "text/plain": [
       "<Array [['this', 'is'], ['a', ..., 'strings']] type='2 * var * string'>"
      ]
     },
     "execution_count": 1,
     "metadata": {},
     "output_type": "execute_result"
    }
   ],
   "source": [
    "import awkward as ak\n",
    "\n",
    "array = ak.Array([\n",
    "    [\"this\", \"is\"],\n",
    "    [\"a\", \"ragged\", \"list\", \"of\", \"strings\"]\n",
    "])\n",
    "array"
   ]
  },
  {
   "cell_type": "markdown",
   "id": "a6ccdfa0-c4b9-451d-aad3-abe8182dd1f7",
   "metadata": {
    "editable": true,
    "slideshow": {
     "slide_type": "subslide"
    },
    "tags": []
   },
   "source": [
    "Of course, Python data structures can be used to store ragged data, e.g."
   ]
  },
  {
   "cell_type": "code",
   "execution_count": 2,
   "id": "69e88ae5-4614-40b4-9b22-385835d3751b",
   "metadata": {
    "editable": true,
    "slideshow": {
     "slide_type": ""
    },
    "tags": []
   },
   "outputs": [
    {
     "data": {
      "text/plain": [
       "[['this', 'is'], ['a', 'ragged', 'list', 'of', 'strings']]"
      ]
     },
     "execution_count": 2,
     "metadata": {},
     "output_type": "execute_result"
    }
   ],
   "source": [
    "[\n",
    "    [\"this\", \"is\"],\n",
    "    [\"a\", \"ragged\", \"list\", \"of\", \"strings\"]\n",
    "]"
   ]
  },
  {
   "cell_type": "markdown",
   "id": "04cc3bdd-c37d-4123-91b3-e5e5e762a18a",
   "metadata": {
    "editable": true,
    "slideshow": {
     "slide_type": "subslide"
    },
    "tags": []
   },
   "source": [
    "But the real power of using Awkward Array is the _performance_ and _expressiveness_ provided by our compiled kernels, and high-level API:"
   ]
  },
  {
   "cell_type": "code",
   "execution_count": 3,
   "id": "8451976c-5e5e-4124-ac11-9b23429d4ee4",
   "metadata": {},
   "outputs": [
    {
     "data": {
      "text/html": [
       "<pre>[2,\n",
       " 5]\n",
       "---------------\n",
       "type: 2 * int64</pre>"
      ],
      "text/plain": [
       "<Array [2, 5] type='2 * int64'>"
      ]
     },
     "execution_count": 3,
     "metadata": {},
     "output_type": "execute_result"
    }
   ],
   "source": [
    "ak.num(array, axis=1)"
   ]
  },
  {
   "cell_type": "code",
   "execution_count": 4,
   "id": "0dd3d57c-7ac5-4e88-ae22-bbc5cc33762e",
   "metadata": {
    "editable": true,
    "scrolled": true,
    "slideshow": {
     "slide_type": "fragment"
    },
    "tags": []
   },
   "outputs": [
    {
     "data": {
      "text/plain": [
       "ak.operations.all\n",
       "ak.operations.almost_equal\n",
       "ak.operations.any\n",
       "ak.operations.argcartesian\n",
       "ak.operations.argcombinations\n",
       "ak.operations.argmax\n",
       "ak.operations.argmin\n",
       "ak.operations.argsort\n",
       "ak.operations.backend\n",
       "ak.operations.broadcast_arrays\n",
       "ak.operations.broadcast_fields\n",
       "ak.operations.cartesian\n",
       "ak.operations.categories\n",
       "ak.operations.combinations\n",
       "ak.operations.concatenate\n",
       "ak.operations.copy\n",
       "ak.operations.corr\n",
       "ak.operations.count\n",
       "ak.operations.count_nonzero\n",
       "ak.operations.covar\n",
       "ak.operations.drop_none\n",
       "ak.operations.enforce_type\n",
       "ak.operations.fields\n",
       "ak.operations.fill_none\n",
       "ak.operations.firsts\n",
       "ak.operations.flatten\n",
       "ak.operations.from_arrow\n",
       "ak.operations.from_arrow_schema\n",
       "ak.operations.from_avro_file\n",
       "ak.operations.from_buffers\n",
       "ak.operations.from_categorical\n",
       "ak.operations.from_cupy\n",
       "ak.operations.from_dlpack\n",
       "ak.operations.from_feather\n",
       "ak.operations.from_iter\n",
       "ak.operations.from_jax\n",
       "ak.operations.from_json\n",
       "ak.operations.from_numpy\n",
       "ak.operations.from_parquet\n",
       "ak.operations.from_rdataframe\n",
       "ak.operations.from_regular\n",
       "ak.operations.full_like\n",
       "ak.operations.is_categorical\n",
       "ak.operations.is_none\n",
       "ak.operations.is_tuple\n",
       "ak.operations.is_valid\n",
       "ak.operations.isclose\n",
       "ak.operations.linear_fit\n",
       "ak.operations.local_index\n",
       "ak.operations.mask\n",
       "ak.operations.max\n",
       "ak.operations.mean\n",
       "ak.operations.merge_option_of_records\n",
       "ak.operations.merge_union_of_records\n",
       "ak.operations.metadata_from_parquet\n",
       "ak.operations.min\n",
       "ak.operations.moment\n",
       "ak.operations.nan_to_none\n",
       "ak.operations.nan_to_num\n",
       "ak.operations.num\n",
       "ak.operations.ones_like\n",
       "ak.operations.pad_none\n",
       "ak.operations.parameters\n",
       "ak.operations.prod\n",
       "ak.operations.ptp\n",
       "ak.operations.ravel\n",
       "ak.operations.run_lengths\n",
       "ak.operations.singletons\n",
       "ak.operations.softmax\n",
       "ak.operations.sort\n",
       "ak.operations.std\n",
       "ak.operations.strings_astype\n",
       "ak.operations.sum\n",
       "ak.operations.to_arrow\n",
       "ak.operations.to_arrow_table\n",
       "ak.operations.to_backend\n",
       "ak.operations.to_buffers\n",
       "ak.operations.to_categorical\n",
       "ak.operations.to_cupy\n",
       "ak.operations.to_dataframe\n",
       "ak.operations.to_feather\n",
       "ak.operations.to_jax\n",
       "ak.operations.to_json\n",
       "ak.operations.to_layout\n",
       "ak.operations.to_list\n",
       "ak.operations.to_numpy\n",
       "ak.operations.to_packed\n",
       "ak.operations.to_parquet\n",
       "ak.operations.to_rdataframe\n",
       "ak.operations.to_regular\n",
       "ak.operations.transform\n",
       "ak.operations.type\n",
       "ak.operations.unflatten\n",
       "ak.operations.unzip\n",
       "ak.operations.validity_error\n",
       "ak.operations.values_astype\n",
       "ak.operations.var\n",
       "ak.operations.where\n",
       "ak.operations.with_field\n",
       "ak.operations.with_name\n",
       "ak.operations.with_parameter\n",
       "ak.operations.without_field\n",
       "ak.operations.without_parameters\n",
       "ak.operations.zeros_like\n",
       "ak.operations.zip"
      ]
     },
     "metadata": {},
     "output_type": "display_data"
    }
   ],
   "source": [
    "%psearch -e builtin ak.operations.*? function"
   ]
  },
  {
   "cell_type": "markdown",
   "id": "73e14c35-9672-4afd-8fd3-513470e41d61",
   "metadata": {
    "editable": true,
    "slideshow": {
     "slide_type": "subslide"
    },
    "tags": []
   },
   "source": [
    "Awkward supports many different data types:"
   ]
  },
  {
   "cell_type": "markdown",
   "id": "24067251-e6d4-456d-abf4-71c587a95866",
   "metadata": {
    "editable": true,
    "slideshow": {
     "slide_type": "fragment"
    },
    "tags": []
   },
   "source": [
    "__Numerics__"
   ]
  },
  {
   "cell_type": "code",
   "execution_count": 5,
   "id": "96fcef8e-e1e6-4385-97b6-7bf2b8a6495a",
   "metadata": {
    "editable": true,
    "slideshow": {
     "slide_type": ""
    },
    "tags": []
   },
   "outputs": [
    {
     "data": {
      "text/html": [
       "<pre>[1,\n",
       " 2,\n",
       " 3]\n",
       "---------------\n",
       "type: 3 * int64</pre>"
      ],
      "text/plain": [
       "<Array [1, 2, 3] type='3 * int64'>"
      ]
     },
     "execution_count": 5,
     "metadata": {},
     "output_type": "execute_result"
    }
   ],
   "source": [
    "ak.Array([1, 2, 3])"
   ]
  },
  {
   "cell_type": "markdown",
   "id": "15c55370-0fd4-49e8-a65e-ed04855a0318",
   "metadata": {
    "editable": true,
    "slideshow": {
     "slide_type": "fragment"
    },
    "tags": []
   },
   "source": [
    "__Optionals__"
   ]
  },
  {
   "cell_type": "code",
   "execution_count": 6,
   "id": "81beed90-91ff-42b3-8e10-b34773202b12",
   "metadata": {
    "editable": true,
    "slideshow": {
     "slide_type": ""
    },
    "tags": []
   },
   "outputs": [
    {
     "data": {
      "text/html": [
       "<pre>[1,\n",
       " None,\n",
       " 2]\n",
       "----------------\n",
       "type: 3 * ?int64</pre>"
      ],
      "text/plain": [
       "<Array [1, None, 2] type='3 * ?int64'>"
      ]
     },
     "execution_count": 6,
     "metadata": {},
     "output_type": "execute_result"
    }
   ],
   "source": [
    "ak.Array([1, None, 2])"
   ]
  },
  {
   "cell_type": "markdown",
   "id": "213fdc5f-0730-4180-a05e-5877a351fb13",
   "metadata": {
    "editable": true,
    "slideshow": {
     "slide_type": "fragment"
    },
    "tags": []
   },
   "source": [
    "__Tagged Unions__"
   ]
  },
  {
   "cell_type": "code",
   "execution_count": 7,
   "id": "5fc6b4d7-411e-4c75-a41f-8818b77ced95",
   "metadata": {
    "editable": true,
    "slideshow": {
     "slide_type": ""
    },
    "tags": []
   },
   "outputs": [
    {
     "data": {
      "text/html": [
       "<pre>[1,\n",
       " &#x27;hello world&#x27;,\n",
       " 2]\n",
       "----------------\n",
       "type: 3 * union[\n",
       "    int64,\n",
       "    string\n",
       "]</pre>"
      ],
      "text/plain": [
       "<Array [1, 'hello world', 2] type='3 * union[int64, string]'>"
      ]
     },
     "execution_count": 7,
     "metadata": {},
     "output_type": "execute_result"
    }
   ],
   "source": [
    "ak.Array([1, \"hello world\", 2])"
   ]
  },
  {
   "cell_type": "markdown",
   "id": "c5cceea0-e491-4c07-a2a2-b0c90db0d74a",
   "metadata": {
    "editable": true,
    "slideshow": {
     "slide_type": "fragment"
    },
    "tags": []
   },
   "source": [
    "__Records__ (composed structures)"
   ]
  },
  {
   "cell_type": "code",
   "execution_count": 8,
   "id": "7bf99734-6b24-43c6-8f3c-3bfc42df0c55",
   "metadata": {
    "editable": true,
    "slideshow": {
     "slide_type": ""
    },
    "tags": []
   },
   "outputs": [
    {
     "data": {
      "text/html": [
       "<pre>[{x: 1, y: 2},\n",
       " {x: 3, y: 4}]\n",
       "--------------\n",
       "type: 2 * {\n",
       "    x: int64,\n",
       "    y: int64\n",
       "}</pre>"
      ],
      "text/plain": [
       "<Array [{x: 1, y: 2}, {x: 3, y: 4}] type='2 * {x: int64, y: int64}'>"
      ]
     },
     "execution_count": 8,
     "metadata": {},
     "output_type": "execute_result"
    }
   ],
   "source": [
    "ak.Array([\n",
    "    {'x': 1, 'y': 2},\n",
    "    {'x': 3, 'y': 4}\n",
    "])"
   ]
  },
  {
   "cell_type": "markdown",
   "id": "1c6dce3f-512f-46f7-8b5e-f94d3d9829bf",
   "metadata": {
    "editable": true,
    "slideshow": {
     "slide_type": "fragment"
    },
    "tags": []
   },
   "source": [
    "__(Byte) strings__"
   ]
  },
  {
   "cell_type": "code",
   "execution_count": 9,
   "id": "cdeb76b2-c5a6-4b9a-b2a9-5b55fca05ef5",
   "metadata": {
    "editable": true,
    "slideshow": {
     "slide_type": ""
    },
    "tags": []
   },
   "outputs": [
    {
     "data": {
      "text/html": [
       "<pre>[&#x27;hello&#x27;,\n",
       " &#x27;world!&#x27;]\n",
       "----------------\n",
       "type: 2 * string</pre>"
      ],
      "text/plain": [
       "<Array ['hello', 'world!'] type='2 * string'>"
      ]
     },
     "execution_count": 9,
     "metadata": {},
     "output_type": "execute_result"
    }
   ],
   "source": [
    "ak.Array([\"hello\", \"world!\"])"
   ]
  },
  {
   "cell_type": "markdown",
   "id": "ba4e5cac-9116-41a7-9cfe-fa05cd803e60",
   "metadata": {
    "editable": true,
    "slideshow": {
     "slide_type": "subslide"
    },
    "tags": []
   },
   "source": [
    "Arrays are represented in-memory in columnar format:"
   ]
  },
  {
   "cell_type": "code",
   "execution_count": 10,
   "id": "94d5a5b6-6cc9-4344-a78f-44a4e864144f",
   "metadata": {
    "editable": true,
    "slideshow": {
     "slide_type": "fragment"
    },
    "tags": []
   },
   "outputs": [
    {
     "data": {
      "text/plain": [
       "<ListOffsetArray len='3'>\n",
       "    <offsets><Index dtype='int64' len='4'>\n",
       "        [0 3 7 9]\n",
       "    </Index></offsets>\n",
       "    <content><NumpyArray dtype='int64' len='9'>[1 2 3 4 5 6 7 8 9]</NumpyArray></content>\n",
       "</ListOffsetArray>"
      ]
     },
     "execution_count": 10,
     "metadata": {},
     "output_type": "execute_result"
    }
   ],
   "source": [
    "array = ak.Array([\n",
    "    [1, 2, 3],\n",
    "    [4, 5, 6, 7],\n",
    "    [8, 9]\n",
    "]) \n",
    "array.layout"
   ]
  },
  {
   "cell_type": "code",
   "execution_count": 11,
   "id": "9ce66694-13fe-446a-bf89-8e6de069eeca",
   "metadata": {
    "editable": true,
    "slideshow": {
     "slide_type": "fragment"
    },
    "tags": []
   },
   "outputs": [
    {
     "data": {
      "text/plain": [
       "<ListOffsetArray len='3'>\n",
       "    <offsets><Index dtype='int64' len='4'>\n",
       "        [0 2 4 5]\n",
       "    </Index></offsets>\n",
       "    <content><ListOffsetArray len='5'>\n",
       "        <offsets><Index dtype='int64' len='6'>[0 2 3 6 7 9]</Index></offsets>\n",
       "        <content><NumpyArray dtype='int64' len='9'>[1 2 3 4 5 6 7 8 9]</NumpyArray></content>\n",
       "    </ListOffsetArray></content>\n",
       "</ListOffsetArray>"
      ]
     },
     "execution_count": 11,
     "metadata": {},
     "output_type": "execute_result"
    }
   ],
   "source": [
    "array = ak.Array([\n",
    "    [\n",
    "        [1, 2], [3]\n",
    "    ],\n",
    "    [\n",
    "        [4, 5, 6], [7]\n",
    "    ],\n",
    "    [\n",
    "        [8, 9]\n",
    "    ]\n",
    "])\n",
    "array.layout"
   ]
  },
  {
   "cell_type": "markdown",
   "id": "701996b3-2a28-4d64-aa78-4328cb0b3afb",
   "metadata": {
    "editable": true,
    "slideshow": {
     "slide_type": "subslide"
    },
    "tags": []
   },
   "source": [
    "And can easily be composed to form new arrays"
   ]
  },
  {
   "cell_type": "code",
   "execution_count": 12,
   "id": "8ccab497-75a1-4103-807a-29f2bdd96b51",
   "metadata": {
    "editable": true,
    "slideshow": {
     "slide_type": "fragment"
    },
    "tags": []
   },
   "outputs": [
    {
     "data": {
      "text/html": [
       "<pre>[1,\n",
       " 2,\n",
       " 3,\n",
       " 4,\n",
       " 5,\n",
       " 6,\n",
       " 7,\n",
       " 8,\n",
       " 9]\n",
       "---------------\n",
       "type: 9 * int64</pre>"
      ],
      "text/plain": [
       "<Array [1, 2, 3, 4, 5, 6, 7, 8, 9] type='9 * int64'>"
      ]
     },
     "execution_count": 12,
     "metadata": {},
     "output_type": "execute_result"
    }
   ],
   "source": [
    "array = ak.Array([1, 2, 3, 4, 5, 6, 7, 8, 9])\n",
    "array"
   ]
  },
  {
   "cell_type": "code",
   "execution_count": 13,
   "id": "10ecdbf8-3d18-4ab5-aa03-39555fabb736",
   "metadata": {
    "editable": true,
    "slideshow": {
     "slide_type": "fragment"
    },
    "tags": []
   },
   "outputs": [
    {
     "data": {
      "text/html": [
       "<pre>[[1, 2],\n",
       " [3],\n",
       " [4, 5, 6],\n",
       " [7],\n",
       " [8, 9]]\n",
       "---------------------\n",
       "type: 5 * var * int64</pre>"
      ],
      "text/plain": [
       "<Array [[1, 2], [3], [4, 5, 6], [7], [8, 9]] type='5 * var * int64'>"
      ]
     },
     "execution_count": 13,
     "metadata": {},
     "output_type": "execute_result"
    }
   ],
   "source": [
    "ak.unflatten(\n",
    "    array,\n",
    "    counts=[2, 1, 3, 1, 2]\n",
    ")"
   ]
  },
  {
   "cell_type": "markdown",
   "id": "a2c2b7e8-3780-4179-aca4-040cbb21ea71",
   "metadata": {
    "editable": true,
    "slideshow": {
     "slide_type": "fragment"
    },
    "tags": []
   },
   "source": [
    "Because of this representation, it's easy to compose arrays into records"
   ]
  },
  {
   "cell_type": "code",
   "execution_count": 58,
   "id": "d38fc5c4-c551-4062-ba8c-ac9674942612",
   "metadata": {
    "editable": true,
    "slideshow": {
     "slide_type": ""
    },
    "tags": []
   },
   "outputs": [
    {
     "data": {
      "text/html": [
       "<pre>[{x: 1, y: 5},\n",
       " {x: 2, y: 6},\n",
       " {x: 3, y: 7},\n",
       " {x: 4, y: 8}]\n",
       "--------------\n",
       "type: 4 * {\n",
       "    x: int64,\n",
       "    y: int64\n",
       "}</pre>"
      ],
      "text/plain": [
       "<Array [{x: 1, y: 5}, {...}, ..., {x: 4, y: 8}] type='4 * {x: int64, y: int64}'>"
      ]
     },
     "execution_count": 58,
     "metadata": {},
     "output_type": "execute_result"
    }
   ],
   "source": [
    "ak.zip({\n",
    "    'x': [1, 2, 3, 4],\n",
    "    'y': [5, 6, 7, 8]\n",
    "})"
   ]
  },
  {
   "cell_type": "markdown",
   "id": "30855146-a0b9-4887-9273-3659e1efa69f",
   "metadata": {
    "editable": true,
    "slideshow": {
     "slide_type": "subslide"
    },
    "tags": []
   },
   "source": [
    "Arrays have types"
   ]
  },
  {
   "cell_type": "code",
   "execution_count": 14,
   "id": "f1658938-5278-4bbc-be78-32608e3936d1",
   "metadata": {
    "editable": true,
    "slideshow": {
     "slide_type": "fragment"
    },
    "tags": []
   },
   "outputs": [
    {
     "name": "stdout",
     "output_type": "stream",
     "text": [
      "[1,\n",
      " 2,\n",
      " 3,\n",
      " 4,\n",
      " 5,\n",
      " 6,\n",
      " 7,\n",
      " 8,\n",
      " 9]\n"
     ]
    }
   ],
   "source": [
    "array.show()"
   ]
  },
  {
   "cell_type": "code",
   "execution_count": 15,
   "id": "d619a1f9-2950-41ea-b3a8-e6fa95f2d6c4",
   "metadata": {
    "editable": true,
    "slideshow": {
     "slide_type": "fragment"
    },
    "tags": []
   },
   "outputs": [
    {
     "name": "stdout",
     "output_type": "stream",
     "text": [
      "9 * int64\n"
     ]
    }
   ],
   "source": [
    "array.type.show()"
   ]
  },
  {
   "cell_type": "code",
   "execution_count": 16,
   "id": "15da1095-f8b8-49a4-a533-7b387fd87ebe",
   "metadata": {
    "editable": true,
    "slideshow": {
     "slide_type": "fragment"
    },
    "tags": []
   },
   "outputs": [
    {
     "data": {
      "text/plain": [
       "ArrayType(NumpyType('int64'), 9, None)"
      ]
     },
     "execution_count": 16,
     "metadata": {},
     "output_type": "execute_result"
    }
   ],
   "source": [
    "array.type"
   ]
  },
  {
   "cell_type": "markdown",
   "id": "9b8df1d3-e32a-4ac6-ba8d-192586c964a1",
   "metadata": {
    "editable": true,
    "slideshow": {
     "slide_type": "subslide"
    },
    "tags": []
   },
   "source": [
    "Arrays can be reduced"
   ]
  },
  {
   "cell_type": "code",
   "execution_count": 17,
   "id": "bba33d2e-8c8e-4986-8cf4-868ac88f7463",
   "metadata": {
    "editable": true,
    "slideshow": {
     "slide_type": "fragment"
    },
    "tags": []
   },
   "outputs": [],
   "source": [
    "array = ak.Array([\n",
    "    [1, 2, 4],\n",
    "    [],\n",
    "    [8],\n",
    "    [16]\n",
    "])"
   ]
  },
  {
   "cell_type": "code",
   "execution_count": 18,
   "id": "73740345-3de9-4769-b2ce-824ca0c2d25f",
   "metadata": {
    "editable": true,
    "slideshow": {
     "slide_type": "fragment"
    },
    "tags": []
   },
   "outputs": [
    {
     "data": {
      "text/html": [
       "<pre>[7,\n",
       " 0,\n",
       " 8,\n",
       " 16]\n",
       "---------------\n",
       "type: 4 * int64</pre>"
      ],
      "text/plain": [
       "<Array [7, 0, 8, 16] type='4 * int64'>"
      ]
     },
     "execution_count": 18,
     "metadata": {},
     "output_type": "execute_result"
    }
   ],
   "source": [
    "ak.sum(array, axis=1)"
   ]
  },
  {
   "cell_type": "markdown",
   "id": "5b1b3768-78f5-49ef-922c-1fb4c65df733",
   "metadata": {
    "editable": true,
    "slideshow": {
     "slide_type": "subslide"
    },
    "tags": []
   },
   "source": [
    "Awkward Array supports _ragged_ reduction:"
   ]
  },
  {
   "cell_type": "markdown",
   "id": "73ffae3c-fd20-4a0d-9c99-5492dfe28dfd",
   "metadata": {
    "editable": true,
    "slideshow": {
     "slide_type": ""
    },
    "tags": []
   },
   "source": [
    ":::{figure} img/example-reduction-sum-only.svg\n",
    ":align: left\n",
    "\n",
    "Ragged reduction at `axis=0`\n",
    ":::\n"
   ]
  },
  {
   "cell_type": "code",
   "execution_count": 19,
   "id": "a1942deb-6e79-4269-8bda-cccd7797eb66",
   "metadata": {
    "editable": true,
    "slideshow": {
     "slide_type": "fragment"
    },
    "tags": []
   },
   "outputs": [],
   "source": [
    "array = ak.Array([\n",
    "    [1,    2,   4],\n",
    "    [            ],\n",
    "    [None, 8,    ],\n",
    "    [16,         ]\n",
    "])"
   ]
  },
  {
   "cell_type": "code",
   "execution_count": 59,
   "id": "bca68018-d91c-49c8-bf62-ee2e565af395",
   "metadata": {
    "editable": true,
    "slideshow": {
     "slide_type": "fragment"
    },
    "tags": []
   },
   "outputs": [
    {
     "data": {
      "text/html": [
       "<pre>[281,\n",
       " 166,\n",
       " 237,\n",
       " 329,\n",
       " 231,\n",
       " 230,\n",
       " 105,\n",
       " 110,\n",
       " 103,\n",
       " 115,\n",
       " 33]\n",
       "-----------------\n",
       "type: 11 * uint64</pre>"
      ],
      "text/plain": [
       "<Array [281, 166, 237, 329, 231, ..., 110, 103, 115, 33] type='11 * uint64'>"
      ]
     },
     "execution_count": 59,
     "metadata": {},
     "output_type": "execute_result"
    }
   ],
   "source": [
    "ak.sum(array, axis=0)"
   ]
  },
  {
   "cell_type": "markdown",
   "id": "a55b8ae3-19fd-4b8e-bda9-dad31431a8b3",
   "metadata": {
    "editable": true,
    "slideshow": {
     "slide_type": "subslide"
    },
    "tags": []
   },
   "source": [
    "Arrays can be sliced"
   ]
  },
  {
   "cell_type": "code",
   "execution_count": 21,
   "id": "6bd3e2b1-27d7-431c-b87c-1129f913059f",
   "metadata": {
    "editable": true,
    "slideshow": {
     "slide_type": "fragment"
    },
    "tags": []
   },
   "outputs": [
    {
     "data": {
      "text/html": [
       "<pre>[[1, 2, 4],\n",
       " [],\n",
       " [None, 8],\n",
       " [16]]\n",
       "----------------------\n",
       "type: 4 * var * ?int64</pre>"
      ],
      "text/plain": [
       "<Array [[1, 2, 4], [], [None, 8], [16]] type='4 * var * ?int64'>"
      ]
     },
     "execution_count": 21,
     "metadata": {},
     "output_type": "execute_result"
    }
   ],
   "source": [
    "array"
   ]
  },
  {
   "cell_type": "code",
   "execution_count": 22,
   "id": "a49a37d3-a9ac-46f9-b963-97f381a36612",
   "metadata": {
    "editable": true,
    "slideshow": {
     "slide_type": "fragment"
    },
    "tags": []
   },
   "outputs": [
    {
     "data": {
      "text/html": [
       "<pre>[[1, 2, 4]]\n",
       "----------------------\n",
       "type: 1 * var * ?int64</pre>"
      ],
      "text/plain": [
       "<Array [[1, 2, 4]] type='1 * var * ?int64'>"
      ]
     },
     "execution_count": 22,
     "metadata": {},
     "output_type": "execute_result"
    }
   ],
   "source": [
    "array[:1]"
   ]
  },
  {
   "cell_type": "code",
   "execution_count": 23,
   "id": "9ed68ca9-357c-4de7-a63a-0e8cc45f51dc",
   "metadata": {
    "editable": true,
    "slideshow": {
     "slide_type": "fragment"
    },
    "tags": []
   },
   "outputs": [
    {
     "data": {
      "text/html": [
       "<pre>[[1],\n",
       " [],\n",
       " [None],\n",
       " [16]]\n",
       "----------------------\n",
       "type: 4 * var * ?int64</pre>"
      ],
      "text/plain": [
       "<Array [[1], [], [None], [16]] type='4 * var * ?int64'>"
      ]
     },
     "execution_count": 23,
     "metadata": {},
     "output_type": "execute_result"
    }
   ],
   "source": [
    "array[:, :1]"
   ]
  },
  {
   "cell_type": "markdown",
   "id": "a19166b5-f900-4ef8-95da-3a1654d9d9f3",
   "metadata": {
    "editable": true,
    "slideshow": {
     "slide_type": "subslide"
    },
    "tags": []
   },
   "source": [
    "Awkward provides helpers for slicing single items from maybe-empty sublists"
   ]
  },
  {
   "cell_type": "code",
   "execution_count": 24,
   "id": "15c10567-3328-4472-a360-54767de3d334",
   "metadata": {
    "editable": true,
    "slideshow": {
     "slide_type": "fragment"
    },
    "tags": []
   },
   "outputs": [
    {
     "data": {
      "text/html": [
       "<pre>[[1, 2, 4],\n",
       " [],\n",
       " [None, 8],\n",
       " [16]]\n",
       "----------------------\n",
       "type: 4 * var * ?int64</pre>"
      ],
      "text/plain": [
       "<Array [[1, 2, 4], [], [None, 8], [16]] type='4 * var * ?int64'>"
      ]
     },
     "execution_count": 24,
     "metadata": {},
     "output_type": "execute_result"
    }
   ],
   "source": [
    "array"
   ]
  },
  {
   "cell_type": "code",
   "execution_count": 25,
   "id": "b2ec541d-6b69-4312-8e11-0336add44986",
   "metadata": {
    "editable": true,
    "slideshow": {
     "slide_type": "fragment"
    },
    "tags": []
   },
   "outputs": [
    {
     "data": {
      "text/html": [
       "<pre>[1,\n",
       " None,\n",
       " None,\n",
       " 16]\n",
       "----------------\n",
       "type: 4 * ?int64</pre>"
      ],
      "text/plain": [
       "<Array [1, None, None, 16] type='4 * ?int64'>"
      ]
     },
     "execution_count": 25,
     "metadata": {},
     "output_type": "execute_result"
    }
   ],
   "source": [
    "ak.firsts(array, axis=1)"
   ]
  },
  {
   "cell_type": "markdown",
   "id": "5d8c2427-d06b-4c9c-87e9-272db25559cb",
   "metadata": {
    "editable": true,
    "slideshow": {
     "slide_type": "subslide"
    },
    "tags": []
   },
   "source": [
    "It's very easy to move between structured and in-memory representation"
   ]
  },
  {
   "cell_type": "code",
   "execution_count": 26,
   "id": "605ac6ca-a1a9-40bc-80a0-bec370513d1d",
   "metadata": {
    "editable": true,
    "slideshow": {
     "slide_type": "fragment"
    },
    "tags": []
   },
   "outputs": [
    {
     "data": {
      "text/html": [
       "<pre>[[1, 2, 4],\n",
       " [],\n",
       " [None, 8],\n",
       " [16]]\n",
       "----------------------\n",
       "type: 4 * var * ?int64</pre>"
      ],
      "text/plain": [
       "<Array [[1, 2, 4], [], [None, 8], [16]] type='4 * var * ?int64'>"
      ]
     },
     "execution_count": 26,
     "metadata": {},
     "output_type": "execute_result"
    }
   ],
   "source": [
    "array"
   ]
  },
  {
   "attachments": {},
   "cell_type": "markdown",
   "id": "4d5b8a14-6946-43e4-9b71-1860386c8c25",
   "metadata": {
    "editable": true,
    "slideshow": {
     "slide_type": "fragment"
    },
    "tags": []
   },
   "source": [
    "We provide a function `ak.to_buffers` that can decompose an Array into its data and structure"
   ]
  },
  {
   "cell_type": "code",
   "execution_count": 27,
   "id": "6d934d4f-c96f-4551-b2e0-c3132504cb62",
   "metadata": {
    "editable": true,
    "slideshow": {
     "slide_type": ""
    },
    "tags": []
   },
   "outputs": [],
   "source": [
    "form, length, container = ak.to_buffers(array)"
   ]
  },
  {
   "cell_type": "code",
   "execution_count": 28,
   "id": "a48acfbd-dfe6-4422-b09f-ace86324fef2",
   "metadata": {
    "editable": true,
    "slideshow": {
     "slide_type": "fragment"
    },
    "tags": []
   },
   "outputs": [
    {
     "data": {
      "text/plain": [
       "ListOffsetForm('i64', IndexedOptionForm('i64', NumpyForm('int64', form_key='node2'), form_key='node1'), form_key='node0')"
      ]
     },
     "execution_count": 28,
     "metadata": {},
     "output_type": "execute_result"
    }
   ],
   "source": [
    "form"
   ]
  },
  {
   "cell_type": "code",
   "execution_count": 29,
   "id": "9c33e098-a0f8-4504-8afe-0317f2ae1632",
   "metadata": {
    "editable": true,
    "slideshow": {
     "slide_type": "fragment"
    },
    "tags": []
   },
   "outputs": [
    {
     "data": {
      "text/plain": [
       "4"
      ]
     },
     "execution_count": 29,
     "metadata": {},
     "output_type": "execute_result"
    }
   ],
   "source": [
    "length"
   ]
  },
  {
   "cell_type": "code",
   "execution_count": 30,
   "id": "51e32c42-f6c0-49ce-a897-fdadc92a425a",
   "metadata": {
    "editable": true,
    "slideshow": {
     "slide_type": "fragment"
    },
    "tags": []
   },
   "outputs": [
    {
     "data": {
      "text/plain": [
       "{'node0-offsets': array([0, 3, 3, 5, 6]),\n",
       " 'node1-index': array([ 0,  1,  2, -1,  3,  4]),\n",
       " 'node2-data': array([ 1,  2,  4,  8, 16])}"
      ]
     },
     "execution_count": 30,
     "metadata": {},
     "output_type": "execute_result"
    }
   ],
   "source": [
    "container"
   ]
  },
  {
   "cell_type": "markdown",
   "id": "a91ce4ff-dd73-4cdf-b231-27ce459b712e",
   "metadata": {
    "editable": true,
    "slideshow": {
     "slide_type": "fragment"
    },
    "tags": []
   },
   "source": [
    "It is trivial to reassemble these components into an Array"
   ]
  },
  {
   "cell_type": "code",
   "execution_count": 31,
   "id": "609a0c42-557d-4e0b-9221-7332f6600357",
   "metadata": {
    "editable": true,
    "slideshow": {
     "slide_type": ""
    },
    "tags": []
   },
   "outputs": [
    {
     "data": {
      "text/html": [
       "<pre>[[1, 2, 4],\n",
       " [],\n",
       " [None, 8],\n",
       " [16]]\n",
       "----------------------\n",
       "type: 4 * var * ?int64</pre>"
      ],
      "text/plain": [
       "<Array [[1, 2, 4], [], [None, 8], [16]] type='4 * var * ?int64'>"
      ]
     },
     "execution_count": 31,
     "metadata": {},
     "output_type": "execute_result"
    }
   ],
   "source": [
    "ak.from_buffers(form, length, container)"
   ]
  },
  {
   "cell_type": "markdown",
   "id": "2a947902-14d9-43df-b073-4c5c8aacaf08",
   "metadata": {
    "editable": true,
    "slideshow": {
     "slide_type": "subslide"
    },
    "tags": []
   },
   "source": [
    "In Awkward Array, strings are views over an array of characters"
   ]
  },
  {
   "cell_type": "code",
   "execution_count": 40,
   "id": "6159ba0d-4dc3-4385-8896-200e5b7dc394",
   "metadata": {
    "editable": true,
    "slideshow": {
     "slide_type": ""
    },
    "tags": []
   },
   "outputs": [
    {
     "data": {
      "text/plain": [
       "<ListOffsetArray len='3'>\n",
       "    <parameter name='__array__'>'string'</parameter>\n",
       "    <offsets><Index dtype='int64' len='4'>\n",
       "        [ 0  4 10 21]\n",
       "    </Index></offsets>\n",
       "    <content><NumpyArray dtype='uint8' len='21'>\n",
       "        <parameter name='__array__'>'char'</parameter>\n",
       "        [ 73  32  97 109  97  32 108 105 115 116 111 102  32 115 116 114 105\n",
       "         110 103 115  33]\n",
       "    </NumpyArray></content>\n",
       "</ListOffsetArray>"
      ]
     },
     "execution_count": 40,
     "metadata": {},
     "output_type": "execute_result"
    }
   ],
   "source": [
    "array = ak.Array([\n",
    "    \"I am\", \"a list\", \"of strings!\"\n",
    "])\n",
    "array.layout"
   ]
  },
  {
   "cell_type": "markdown",
   "id": "08998fc8-241b-4e50-8000-455c3dd20d8c",
   "metadata": {
    "editable": true,
    "slideshow": {
     "slide_type": "fragment"
    },
    "tags": []
   },
   "source": [
    "Unlike NumPy, which has fixed-length strings"
   ]
  },
  {
   "cell_type": "code",
   "execution_count": 56,
   "id": "ba14ae0f-196f-4c42-ad25-3c4b5fd1b12e",
   "metadata": {
    "editable": true,
    "slideshow": {
     "slide_type": ""
    },
    "tags": []
   },
   "outputs": [
    {
     "data": {
      "text/plain": [
       "array(['I am', 'a list', 'of strings!'], dtype='<U11')"
      ]
     },
     "execution_count": 56,
     "metadata": {},
     "output_type": "execute_result"
    }
   ],
   "source": [
    "import numpy as np\n",
    "strings = np.array([\"I am\", \"a list\", \"of strings!\"])\n",
    "strings"
   ]
  },
  {
   "cell_type": "code",
   "execution_count": 57,
   "id": "cc04a482-20ca-4985-9110-8d86b6e412d6",
   "metadata": {
    "editable": true,
    "slideshow": {
     "slide_type": "fragment"
    },
    "tags": []
   },
   "outputs": [
    {
     "data": {
      "text/plain": [
       "array([[ 73,  32,  97, 109,   0,   0,   0,   0,   0,   0,   0],\n",
       "       [ 97,  32, 108, 105, 115, 116,   0,   0,   0,   0,   0],\n",
       "       [111, 102,  32, 115, 116, 114, 105, 110, 103, 115,  33]],\n",
       "      dtype=uint32)"
      ]
     },
     "execution_count": 57,
     "metadata": {},
     "output_type": "execute_result"
    }
   ],
   "source": [
    "strings.view(np.uint32).reshape(-1, 11)"
   ]
  },
  {
   "cell_type": "markdown",
   "id": "f21b551a-1dff-4d18-be71-f758e34264b8",
   "metadata": {
    "editable": true,
    "slideshow": {
     "slide_type": "subslide"
    },
    "tags": []
   },
   "source": [
    "Through PyArrow, we provide a suite of string operations"
   ]
  },
  {
   "cell_type": "code",
   "execution_count": 36,
   "id": "bb57e1a4-d719-4cfa-a0b1-c3797a345f10",
   "metadata": {
    "editable": true,
    "slideshow": {
     "slide_type": "fragment"
    },
    "tags": []
   },
   "outputs": [
    {
     "data": {
      "text/html": [
       "<pre>[[&#x27;A&#x27;, &#x27;&quot;Hello,&#x27;, &#x27;World!&quot;&#x27;, &#x27;program&#x27;, ..., &#x27;that&#x27;, &#x27;ignores&#x27;, &#x27;any&#x27;, &#x27;input&#x27;]]\n",
       "--------------------------------------------------------------------------------\n",
       "type: 1 * var * string</pre>"
      ],
      "text/plain": [
       "<Array [['A', '\"Hello,', ..., 'any', 'input']] type='1 * var * string'>"
      ]
     },
     "execution_count": 36,
     "metadata": {},
     "output_type": "execute_result"
    }
   ],
   "source": [
    "array = ak.str.split_whitespace(\n",
    "    [\"A \\\"Hello, World!\\\" program is generally a computer program that ignores any input\"]\n",
    ")\n",
    "array"
   ]
  },
  {
   "cell_type": "code",
   "execution_count": 38,
   "id": "607bc257-aced-4acf-8260-d5dc598fa1bb",
   "metadata": {},
   "outputs": [
    {
     "data": {
      "text/html": [
       "<pre>[[&#x27;A&#x27;, &#x27;&quot;HELLO,&#x27;, &#x27;WORLD!&quot;&#x27;, &#x27;PROGRAM&#x27;, ..., &#x27;THAT&#x27;, &#x27;IGNORES&#x27;, &#x27;ANY&#x27;, &#x27;INPUT&#x27;]]\n",
       "--------------------------------------------------------------------------------\n",
       "type: 1 * var * string</pre>"
      ],
      "text/plain": [
       "<Array [['A', '\"HELLO,', ..., 'ANY', 'INPUT']] type='1 * var * string'>"
      ]
     },
     "execution_count": 38,
     "metadata": {},
     "output_type": "execute_result"
    }
   ],
   "source": [
    "ak.str.upper(\n",
    "    array\n",
    ")"
   ]
  }
 ],
 "metadata": {
  "kernelspec": {
   "display_name": "Python 3 (ipykernel)",
   "language": "python",
   "name": "python3"
  },
  "language_info": {
   "codemirror_mode": {
    "name": "ipython",
    "version": 3
   },
   "file_extension": ".py",
   "mimetype": "text/x-python",
   "name": "python",
   "nbconvert_exporter": "python",
   "pygments_lexer": "ipython3",
   "version": "3.10.12"
  }
 },
 "nbformat": 4,
 "nbformat_minor": 5
}
